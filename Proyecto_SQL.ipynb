{
 "cells": [
  {
   "cell_type": "markdown",
   "id": "6d26e5a3",
   "metadata": {},
   "source": [
    "![SQLite](./img/sqlite.png)"
   ]
  },
  {
   "cell_type": "markdown",
   "id": "40832265",
   "metadata": {},
   "source": [
    "# Proyecto SQLite  \n",
    "Proyecto de creación de una bbdd"
   ]
  },
  {
   "cell_type": "markdown",
   "id": "2c5f86e5",
   "metadata": {},
   "source": [
    "#### Índice  \n",
    "1. [Importación de librerias](#importación-de-librerias)\n",
    "2. [Importación de datos](#importacion-de-datos-de-partida)\n",
    "3. [Creación de tablas](#creación-de-tablas)\n",
    "4. [Insertar registros](#insertar-registros)\n",
    "5. [Query](#pruebas-de-query)"
   ]
  },
  {
   "cell_type": "markdown",
   "id": "dff9d294",
   "metadata": {},
   "source": [
    "## Importación de librerias"
   ]
  },
  {
   "cell_type": "code",
   "execution_count": null,
   "id": "044c1fb4",
   "metadata": {},
   "outputs": [],
   "source": [
    "# Importamos sqlite3, la librería estándar de Python para trabajar con bases de datos SQLite\n",
    "# SQLite es una base de datos embebida que no requiere servidor\n",
    "import sqlite3\n",
    "\n",
    "# Importamos datetime para trabajar con fechas y horas\n",
    "from datetime import datetime\n",
    "\n",
    "# Importamos pandas para visualizar mejor los resultados\n",
    "import pandas as pd\n",
    "\n",
    "# Mensaje de confirmación para saber que todo se importó correctamente\n",
    "print(\"Librerías importadas correctamente\")"
   ]
  },
  {
   "cell_type": "code",
   "execution_count": null,
   "id": "8517c7b1",
   "metadata": {},
   "outputs": [],
   "source": [
    "# Creamos la conexión a la base de datos\n",
    "# sqlite3.connect() crea un archivo .db si no existe o se conecta a uno existente\n",
    "# Si el archivo 'Proyecto_SQL.db' no existe, se creará automáticamente\n",
    "conexion = sqlite3.connect('Proyecto_SQL.db')\n",
    "\n",
    "# Creamos un cursor, que es el objeto que usaremos para ejecutar comandos SQL\n",
    "# El cursor es como un \"puntero\" que nos permite navegar y modificar la base de datos\n",
    "cursor = conexion.cursor()\n",
    "\n",
    "# Mensajes informativos para confirmar que la conexión fue exitosa\n",
    "print(\"Conexión establecida exitosamente\")\n",
    "print(f\"Base de datos: Proyecto_SQL.db\")"
   ]
  },
  {
   "cell_type": "markdown",
   "id": "b3d87b24",
   "metadata": {},
   "source": [
    "## Importacion de datos de partida"
   ]
  },
  {
   "cell_type": "code",
   "execution_count": null,
   "id": "033b653a",
   "metadata": {},
   "outputs": [],
   "source": [
    "df_1 = pd.read_csv(\"./data/clase_1.csv\", sep= \";\")\n",
    "df_2 = pd.read_csv(\"./data/clase_2.csv\", sep= \";\")\n",
    "df_3 = pd.read_csv(\"./data/clase_3.csv\", sep= \";\")\n",
    "df_4 = pd.read_csv(\"./data/clase_4.csv\", sep= \";\")\n",
    "df_5 = pd.read_csv(\"./data/claustro.csv\", sep= \";\")"
   ]
  },
  {
   "cell_type": "code",
   "execution_count": null,
   "id": "41511b82",
   "metadata": {},
   "outputs": [],
   "source": [
    "df_1.head()"
   ]
  },
  {
   "cell_type": "code",
   "execution_count": null,
   "id": "b9cb72e3",
   "metadata": {},
   "outputs": [],
   "source": [
    "df_2.head()"
   ]
  },
  {
   "cell_type": "code",
   "execution_count": null,
   "id": "b1bf032a",
   "metadata": {},
   "outputs": [],
   "source": [
    "df_3.rename(columns= {\"Proyecto_FullSatck\": \"Proyecto_FullStack\"}, inplace= True)\n",
    "df_3.head()"
   ]
  },
  {
   "cell_type": "code",
   "execution_count": null,
   "id": "ca5eca5d",
   "metadata": {},
   "outputs": [],
   "source": [
    "df_4.rename(columns= {\"Proyecto_FullSatck\": \"Proyecto_FullStack\"}, inplace= True)\n",
    "df_4.head()"
   ]
  },
  {
   "cell_type": "code",
   "execution_count": null,
   "id": "4f17499a",
   "metadata": {},
   "outputs": [],
   "source": [
    "df_5.head()"
   ]
  },
  {
   "cell_type": "code",
   "execution_count": null,
   "id": "5a419f64",
   "metadata": {},
   "outputs": [],
   "source": [
    "# Merge de los 4 primeros dataframe al tratarse del mismo tipo de información y renombrar df_5\n",
    "df_alumnos = df_1.merge(df_2, how= 'outer').merge(df_3,how= 'outer').merge(df_4, how= 'outer')\n",
    "df_profesores = df_5\n",
    "df_alumnos.head()"
   ]
  },
  {
   "cell_type": "markdown",
   "id": "2fe94c3c",
   "metadata": {},
   "source": [
    "## Creación de tablas"
   ]
  },
  {
   "cell_type": "markdown",
   "id": "7feb6308",
   "metadata": {},
   "source": [
    "#### Campus"
   ]
  },
  {
   "cell_type": "code",
   "execution_count": null,
   "id": "ae851715",
   "metadata": {},
   "outputs": [],
   "source": [
    "# Primero eliminamos la tabla si ya existe (útil para reiniciar desde cero)\n",
    "# DROP TABLE IF EXISTS es una operación segura que no da error si la tabla no existe\n",
    "cursor.execute('DROP TABLE IF EXISTS Campus')\n",
    "\n",
    "# Creamos la tabla Campus con SQL usando cursor.execute()\n",
    "cursor.execute('''\n",
    "    CREATE TABLE Campus (\n",
    "        id_campus INTEGER PRIMARY KEY AUTOINCREMENT,\n",
    "        nombre_campus VCHAR(50) NOT NULL\n",
    "    )\n",
    "''')\n",
    "\n",
    "# Guardamos los cambios en la base de datos\n",
    "# commit() hace permanentes los cambios - sin esto, los cambios se pierden\n",
    "conexion.commit()\n",
    "\n",
    "print(\"✓ Tabla Campus creada exitosamente\")"
   ]
  },
  {
   "cell_type": "markdown",
   "id": "742fa591",
   "metadata": {},
   "source": [
    "#### Modalidad"
   ]
  },
  {
   "cell_type": "code",
   "execution_count": null,
   "id": "26044d1f",
   "metadata": {},
   "outputs": [],
   "source": [
    "# Primero eliminamos la tabla si ya existe (útil para reiniciar desde cero)\n",
    "# DROP TABLE IF EXISTS es una operación segura que no da error si la tabla no existe\n",
    "cursor.execute('DROP TABLE IF EXISTS Modalidad')\n",
    "\n",
    "# Creamos la tabla Modalidad con SQL usando cursor.execute()\n",
    "cursor.execute('''\n",
    "    CREATE TABLE Modalidad (\n",
    "        id_modalidad INTEGER PRIMARY KEY AUTOINCREMENT,\n",
    "        nombre_modalidad VCHAR(50) NOT NULL\n",
    "    )\n",
    "''')\n",
    "\n",
    "# Guardamos los cambios en la base de datos\n",
    "# commit() hace permanentes los cambios - sin esto, los cambios se pierden\n",
    "conexion.commit()\n",
    "\n",
    "print(\"✓ Tabla Modalidad creada exitosamente\")"
   ]
  },
  {
   "cell_type": "markdown",
   "id": "4390bff6",
   "metadata": {},
   "source": [
    "#### Promocion"
   ]
  },
  {
   "cell_type": "code",
   "execution_count": null,
   "id": "7149ae9b",
   "metadata": {},
   "outputs": [],
   "source": [
    "# Primero eliminamos la tabla si ya existe (útil para reiniciar desde cero)\n",
    "# DROP TABLE IF EXISTS es una operación segura que no da error si la tabla no existe\n",
    "cursor.execute('DROP TABLE IF EXISTS Promocion')\n",
    "\n",
    "# Creamos la tabla Promocion con SQL usando cursor.execute()\n",
    "cursor.execute('''\n",
    "    CREATE TABLE Promocion (\n",
    "        id_promocion INTEGER PRIMARY KEY AUTOINCREMENT,\n",
    "        nombre_promocion VCHAR(50) NOT NULL,\n",
    "        fecha_promocion DATE NOT NULL\n",
    "    )\n",
    "''')\n",
    "\n",
    "# Guardamos los cambios en la base de datos\n",
    "# commit() hace permanentes los cambios - sin esto, los cambios se pierden\n",
    "conexion.commit()\n",
    "\n",
    "print(\"✓ Tabla Promocion creada exitosamente\")"
   ]
  },
  {
   "cell_type": "markdown",
   "id": "4008de1a",
   "metadata": {},
   "source": [
    "#### Profesor"
   ]
  },
  {
   "cell_type": "code",
   "execution_count": null,
   "id": "7fcdfc8d",
   "metadata": {},
   "outputs": [],
   "source": [
    "# Primero eliminamos la tabla si ya existe (útil para reiniciar desde cero)\n",
    "# DROP TABLE IF EXISTS es una operación segura que no da error si la tabla no existe\n",
    "cursor.execute('DROP TABLE IF EXISTS Profesor')\n",
    "\n",
    "# Creamos la tabla Profesor con SQL usando cursor.execute()\n",
    "cursor.execute('''\n",
    "    CREATE TABLE Profesor (\n",
    "        id_profesor INTEGER PRIMARY KEY AUTOINCREMENT,\n",
    "        id_clase INTEGER,\n",
    "        nombre_profesor VCHAR(50) NOT NULL,\n",
    "        rol VCHAR(50) NOT NULL,\n",
    "        FOREIGN KEY (id_clase) REFERENCES Clases(id_clase) ON DELETE CASCADE\n",
    "    )\n",
    "''')\n",
    "\n",
    "# Guardamos los cambios en la base de datos\n",
    "# commit() hace permanentes los cambios - sin esto, los cambios se pierden\n",
    "conexion.commit()\n",
    "\n",
    "print(\"✓ Tabla Profesor creada exitosamente\")"
   ]
  },
  {
   "cell_type": "markdown",
   "id": "6793bbce",
   "metadata": {},
   "source": [
    "#### Clase"
   ]
  },
  {
   "cell_type": "code",
   "execution_count": null,
   "id": "ad248ad7",
   "metadata": {},
   "outputs": [],
   "source": [
    "# Primero eliminamos la tabla si ya existe (útil para reiniciar desde cero)\n",
    "# DROP TABLE IF EXISTS es una operación segura que no da error si la tabla no existe\n",
    "cursor.execute('DROP TABLE IF EXISTS Clase')\n",
    "\n",
    "# Creamos la tabla Clase con SQL usando cursor.execute()\n",
    "cursor.execute('''\n",
    "    CREATE TABLE Clase (\n",
    "        id_clase INTEGER PRIMARY KEY AUTOINCREMENT,\n",
    "        id_campus INTEGER,\n",
    "        id_modalidad INTEGER,\n",
    "        id_promocion INTEGER,\n",
    "        id_vertical INTEGER,\n",
    "        FOREIGN KEY (id_campus) REFERENCES Campus(id_campus) ON DELETE CASCADE,\n",
    "        FOREIGN KEY (id_modalidad) REFERENCES Modalidad(id_modalidad) ON DELETE CASCADE,\n",
    "        FOREIGN KEY (id_promocion) REFERENCES Promocion(id_promocion) ON DELETE CASCADE,\n",
    "        FOREIGN KEY (id_vertical) REFERENCES Vertical(id_vertical) ON DELETE CASCADE\n",
    "    )\n",
    "''')\n",
    "\n",
    "# Guardamos los cambios en la base de datos\n",
    "# commit() hace permanentes los cambios - sin esto, los cambios se pierden\n",
    "conexion.commit()\n",
    "\n",
    "print(\"✓ Tabla Clase creada exitosamente\")"
   ]
  },
  {
   "cell_type": "markdown",
   "id": "1662ff37",
   "metadata": {},
   "source": [
    "#### Alumnos"
   ]
  },
  {
   "cell_type": "code",
   "execution_count": null,
   "id": "a70a9389",
   "metadata": {},
   "outputs": [],
   "source": [
    "# Primero eliminamos la tabla si ya existe (útil para reiniciar desde cero)\n",
    "# DROP TABLE IF EXISTS es una operación segura que no da error si la tabla no existe\n",
    "cursor.execute('DROP TABLE IF EXISTS Alumnos')\n",
    "\n",
    "# Creamos la tabla Alumnos con SQL usando cursor.execute()\n",
    "cursor.execute('''\n",
    "    CREATE TABLE Alumnos (\n",
    "        id_alumno INTEGER PRIMARY KEY AUTOINCREMENT,\n",
    "        nombre_alumno VCHAR(50) NOT NULL,\n",
    "        email_alumno VCHAR(50) NOT NULL,\n",
    "        id_clase INTEGER,\n",
    "        FOREIGN KEY (id_clase) REFERENCES Clase(id_clase) ON DELETE CASCADE\n",
    "    )\n",
    "''')\n",
    "\n",
    "# Guardamos los cambios en la base de datos\n",
    "# commit() hace permanentes los cambios - sin esto, los cambios se pierden\n",
    "conexion.commit()\n",
    "\n",
    "print(\"✓ Tabla Alumnos creada exitosamente\")"
   ]
  },
  {
   "cell_type": "markdown",
   "id": "7a6edc95",
   "metadata": {},
   "source": [
    "#### Proyectos"
   ]
  },
  {
   "cell_type": "code",
   "execution_count": null,
   "id": "40b4496a",
   "metadata": {},
   "outputs": [],
   "source": [
    "# Primero eliminamos la tabla si ya existe (útil para reiniciar desde cero)\n",
    "# DROP TABLE IF EXISTS es una operación segura que no da error si la tabla no existe\n",
    "cursor.execute('DROP TABLE IF EXISTS Proyectos')\n",
    "\n",
    "# Creamos la tabla Proyectos con SQL usando cursor.execute()\n",
    "cursor.execute('''\n",
    "    CREATE TABLE Proyectos (\n",
    "        id_proyecto INTEGER PRIMARY KEY AUTOINCREMENT,\n",
    "        nombre_proyecto VCHAR(50) NOT NULL,\n",
    "        id_alumno INTEGER,\n",
    "        id_vertical INTEGER,\n",
    "        FOREIGN KEY (id_alumno) REFERENCES Alumno(id_alumno) ON DELETE CASCADE,\n",
    "        FOREIGN KEY (id_vertical) REFERENCES Vertical(id_vertical) ON DELETE CASCADE\n",
    "    )\n",
    "''')\n",
    "\n",
    "# Guardamos los cambios en la base de datos\n",
    "# commit() hace permanentes los cambios - sin esto, los cambios se pierden\n",
    "conexion.commit()\n",
    "\n",
    "print(\"✓ Tabla Proyectos creada exitosamente\")"
   ]
  },
  {
   "cell_type": "markdown",
   "id": "11ef9f53",
   "metadata": {},
   "source": [
    "#### Notas"
   ]
  },
  {
   "cell_type": "code",
   "execution_count": null,
   "id": "9ac60359",
   "metadata": {},
   "outputs": [],
   "source": [
    "# Primero eliminamos la tabla si ya existe (útil para reiniciar desde cero)\n",
    "# DROP TABLE IF EXISTS es una operación segura que no da error si la tabla no existe\n",
    "cursor.execute('DROP TABLE IF EXISTS Notas')\n",
    "\n",
    "# Creamos la tabla Notas con SQL usando cursor.execute()\n",
    "cursor.execute('''\n",
    "    CREATE TABLE Notas (\n",
    "        id_nota INTEGER PRIMARY KEY AUTOINCREMENT,\n",
    "        resultado VCHAR(50) NOT NULL,\n",
    "        id_proyecto INTEGER,\n",
    "        id_alumno INTEGER,\n",
    "        FOREIGN KEY (id_proyecto) REFERENCES Proyectos(id_proyecto) ON DELETE CASCADE,\n",
    "        FOREIGN KEY (id_alumno) REFERENCES Alumnos(id_alumno) ON DELETE CASCADE\n",
    "    )\n",
    "''')\n",
    "\n",
    "# Guardamos los cambios en la base de datos\n",
    "# commit() hace permanentes los cambios - sin esto, los cambios se pierden\n",
    "conexion.commit()\n",
    "\n",
    "print(\"✓ Tabla Notas creada exitosamente\")"
   ]
  },
  {
   "cell_type": "markdown",
   "id": "1cd5f13a",
   "metadata": {},
   "source": [
    "#### Vertical"
   ]
  },
  {
   "cell_type": "code",
   "execution_count": null,
   "id": "65ef22bd",
   "metadata": {},
   "outputs": [],
   "source": [
    "# Primero eliminamos la tabla si ya existe (útil para reiniciar desde cero)\n",
    "# DROP TABLE IF EXISTS es una operación segura que no da error si la tabla no existe\n",
    "cursor.execute('DROP TABLE IF EXISTS Vertical')\n",
    "\n",
    "# Creamos la tabla Vertical con SQL usando cursor.execute()\n",
    "cursor.execute('''\n",
    "    CREATE TABLE Vertical (\n",
    "        id_vertical INTEGER PRIMARY KEY AUTOINCREMENT,\n",
    "        nombre_vertical VCHAR(50) NOT NULL\n",
    "    )\n",
    "''')\n",
    "\n",
    "# Guardamos los cambios en la base de datos\n",
    "# commit() hace permanentes los cambios - sin esto, los cambios se pierden\n",
    "conexion.commit()\n",
    "\n",
    "print(\"✓ Tabla Vertical creada exitosamente\")"
   ]
  },
  {
   "cell_type": "markdown",
   "id": "0add5e4a",
   "metadata": {},
   "source": [
    "## Insertar registros"
   ]
  },
  {
   "cell_type": "code",
   "execution_count": null,
   "id": "aa635dda",
   "metadata": {},
   "outputs": [],
   "source": [
    "# Funcíon para extraer datos de los datasets\n",
    "def extraer_datos(indices, dataset):\n",
    "    \"\"\"\n",
    "    Función para extraer los valores de los dataset y convertirlos en lista de tuplas\n",
    "\n",
    "    Args:\n",
    "        indices (list): Lista con los nombres de las columnas a extraer\n",
    "        dataset (str): Nombre del dataset a extraer\n",
    "    \"\"\"\n",
    "    \n",
    "    return dataset[indices].dropna().drop_duplicates().apply(tuple, axis=1).tolist()"
   ]
  },
  {
   "cell_type": "markdown",
   "id": "bd213add",
   "metadata": {},
   "source": [
    "#### Campus"
   ]
  },
  {
   "cell_type": "code",
   "execution_count": null,
   "id": "13f4fe20",
   "metadata": {},
   "outputs": [],
   "source": [
    "# Creamos una lista de tuplas con los datos a insertar\n",
    "campus_intro = extraer_datos([\"Campus\"], df_alumnos)\n",
    "\n",
    "cursor.executemany('''\n",
    "    INSERT OR IGNORE INTO Campus (nombre_campus)\n",
    "    VALUES (?)\n",
    "''', campus_intro)\n",
    "\n",
    "# Guardamos todos los cambios a la vez\n",
    "conexion.commit()\n",
    "\n",
    "print(f\"✓ {len(campus_intro)} campus insertados correctamente\")"
   ]
  },
  {
   "cell_type": "markdown",
   "id": "f25de365",
   "metadata": {},
   "source": [
    "#### Modalidad"
   ]
  },
  {
   "cell_type": "code",
   "execution_count": null,
   "id": "34e208fd",
   "metadata": {},
   "outputs": [],
   "source": [
    "extraer_datos([\"Modalidad\"], df_profesores)"
   ]
  },
  {
   "cell_type": "code",
   "execution_count": null,
   "id": "b3b412a2",
   "metadata": {},
   "outputs": [],
   "source": [
    "# Creamos una lista de tuplas con los datos a insertar\n",
    "modalidad_intro = extraer_datos([\"Modalidad\"], df_profesores)\n",
    "\n",
    "cursor.executemany('''\n",
    "    INSERT OR IGNORE INTO Modalidad (nombre_modalidad)\n",
    "    VALUES (?)\n",
    "''', modalidad_intro)\n",
    "\n",
    "# Guardamos todos los cambios a la vez\n",
    "conexion.commit()\n",
    "\n",
    "print(f\"✓ {len(modalidad_intro)} modalidades insertadas correctamente\")"
   ]
  },
  {
   "cell_type": "markdown",
   "id": "9e207f15",
   "metadata": {},
   "source": [
    "#### Promocion"
   ]
  },
  {
   "cell_type": "code",
   "execution_count": null,
   "id": "2771accb",
   "metadata": {},
   "outputs": [],
   "source": [
    "# Creamos una lista de tuplas con los datos a insertar\n",
    "promocion_intro = extraer_datos([\"Promoción\", \"Fecha_comienzo\"], df_alumnos)\n",
    "\n",
    "cursor.executemany('''\n",
    "    INSERT OR IGNORE INTO Promocion (nombre_promocion, fecha_promocion)\n",
    "    VALUES (?, ?)\n",
    "''', promocion_intro)\n",
    "\n",
    "# Guardamos todos los cambios a la vez\n",
    "conexion.commit()\n",
    "\n",
    "print(f\"✓ {len(promocion_intro)} promociones insertadas correctamente\")"
   ]
  },
  {
   "cell_type": "markdown",
   "id": "33741e98",
   "metadata": {},
   "source": [
    "#### Vertical"
   ]
  },
  {
   "cell_type": "code",
   "execution_count": null,
   "id": "f95852c3",
   "metadata": {},
   "outputs": [],
   "source": [
    "# Creamos una lista de tuplas con los datos a insertar\n",
    "vertical_intro = extraer_datos([\"Vertical\"], df_profesores)\n",
    "\n",
    "cursor.executemany('''\n",
    "    INSERT OR IGNORE INTO Vertical (nombre_vertical)\n",
    "    VALUES (?)\n",
    "''', vertical_intro)\n",
    "\n",
    "# Guardamos todos los cambios a la vez\n",
    "conexion.commit()\n",
    "\n",
    "print(f\"✓ {len(vertical_intro)} verticales insertadas correctamente\")"
   ]
  },
  {
   "cell_type": "markdown",
   "id": "3467cf0c",
   "metadata": {},
   "source": [
    "#### Clase"
   ]
  },
  {
   "cell_type": "code",
   "execution_count": null,
   "id": "a1b4bd58",
   "metadata": {},
   "outputs": [],
   "source": [
    "# Creamos una lista de tuplas con los datos a insertar\n",
    "clases = df_profesores[['Campus', 'Modalidad', 'Promocion', 'Vertical']].drop_duplicates()\n",
    "\n",
    "for _, row in clases.iterrows():\n",
    "    # Obtener IDs\n",
    "    id_campus = cursor.execute('SELECT id_campus FROM Campus WHERE nombre_campus = ?', \n",
    "                                (row['Campus'],)).fetchone()[0]\n",
    "    id_modalidad = cursor.execute('SELECT id_modalidad FROM Modalidad WHERE nombre_modalidad = ?', \n",
    "                                    (row['Modalidad'],)).fetchone()[0]\n",
    "    id_promocion = cursor.execute('SELECT id_promocion FROM Promocion WHERE nombre_promocion = ?', \n",
    "                                    (row['Promocion'],)).fetchone()[0]\n",
    "    id_vertical = cursor.execute('SELECT id_vertical FROM Vertical WHERE nombre_vertical = ?', \n",
    "                                (row['Vertical'],)).fetchone()[0]\n",
    "    \n",
    "    cursor.execute('''\n",
    "        INSERT OR IGNORE INTO Clase (id_campus, id_modalidad, id_promocion, id_vertical)\n",
    "        VALUES (?, ?, ?, ?)\n",
    "    ''', (id_campus, id_modalidad, id_promocion, id_vertical))\n",
    "\n",
    "# Guardamos todos los cambios a la vez\n",
    "conexion.commit()\n",
    "\n",
    "print(f\"✓ {len(clases)} clases insertadas correctamente\")"
   ]
  },
  {
   "cell_type": "markdown",
   "id": "3c435123",
   "metadata": {},
   "source": [
    "#### Profesor"
   ]
  },
  {
   "cell_type": "code",
   "execution_count": null,
   "id": "daeb5774",
   "metadata": {},
   "outputs": [],
   "source": [
    "# Creamos una lista de tuplas con los datos a insertar\n",
    "for _, row in df_profesores.iterrows():\n",
    "    # Obtener id_clase\n",
    "    id_campus = cursor.execute('SELECT id_campus FROM Campus WHERE nombre_campus = ?', \n",
    "                                (row['Campus'],)).fetchone()[0]\n",
    "    id_modalidad = cursor.execute('SELECT id_modalidad FROM Modalidad WHERE nombre_modalidad = ?', \n",
    "                                    (row['Modalidad'],)).fetchone()[0]\n",
    "    id_promocion = cursor.execute('SELECT id_promocion FROM Promocion WHERE nombre_promocion = ?', \n",
    "                                    (row['Promocion'],)).fetchone()[0]\n",
    "    id_vertical = cursor.execute('SELECT id_vertical FROM Vertical WHERE nombre_vertical = ?', \n",
    "                                (row['Vertical'],)).fetchone()[0]\n",
    "    \n",
    "    id_clase = cursor.execute('''\n",
    "        SELECT id_clase FROM Clase \n",
    "        WHERE id_campus = ? AND id_modalidad = ? AND id_promocion = ? AND id_vertical = ?\n",
    "    ''', (id_campus, id_modalidad, id_promocion, id_vertical)).fetchone()[0]\n",
    "    \n",
    "    cursor.execute('''\n",
    "        INSERT INTO Profesor (nombre_profesor, rol, id_clase)\n",
    "        VALUES (?, ?, ?)\n",
    "    ''', (row['Nombre'], row['Rol'], id_clase))\n",
    "\n",
    "# Guardamos todos los cambios a la vez\n",
    "conexion.commit()\n",
    "\n",
    "print(f\"✓ {len(df_profesores)} profesores insertados correctamente\")"
   ]
  },
  {
   "cell_type": "markdown",
   "id": "99cd1cd2",
   "metadata": {},
   "source": [
    "#### Proyectos"
   ]
  },
  {
   "cell_type": "code",
   "execution_count": null,
   "id": "a64edbd7",
   "metadata": {},
   "outputs": [],
   "source": [
    "# Creamos una lista de tuplas con los datos a insertar\n",
    "proyectos_columnas = ['Proyecto_HLF', 'Proyecto_EDA', 'Proyecto_BBDD', 'Proyecto_ML',\n",
    "                        'Proyecto_Deployment', 'Proyecto_WebDev', 'Proyecto_FrontEnd', \n",
    "                        'Proyecto_Backend', 'Proyecto_React', 'Proyecto_FullStack']\n",
    "\n",
    "# Mapeo de proyectos a verticales\n",
    "proyecto_vertical_map = {\n",
    "    'Proyecto_HLF': 'DS',\n",
    "    'Proyecto_EDA': 'DS',\n",
    "    'Proyecto_BBDD': 'DS',\n",
    "    'Proyecto_ML': 'DS',\n",
    "    'Proyecto_Deployment': 'DS',\n",
    "    'Proyecto_WebDev': 'FS',\n",
    "    'Proyecto_FrontEnd': 'FS',\n",
    "    'Proyecto_Backend': 'FS',\n",
    "    'Proyecto_React': 'FS',\n",
    "    'Proyecto_FullStack': 'FS'\n",
    "}\n",
    "\n",
    "for proyecto in proyectos_columnas:\n",
    "    vertical_nombre = proyecto_vertical_map.get(proyecto)\n",
    "    id_vertical = None\n",
    "    if vertical_nombre:\n",
    "        result = cursor.execute('SELECT id_vertical FROM Vertical WHERE nombre_vertical = ?', \n",
    "                                (vertical_nombre,)).fetchone()\n",
    "        if result:\n",
    "            id_vertical = result[0]\n",
    "    \n",
    "    cursor.execute('''\n",
    "        INSERT OR IGNORE INTO Proyectos (nombre_proyecto, id_vertical)\n",
    "        VALUES (?, ?)\n",
    "    ''', (proyecto, id_vertical))\n",
    "    \n",
    "# Guardamos todos los cambios a la vez\n",
    "conexion.commit()\n",
    "\n",
    "print(f\"✓ {len(proyectos_columnas)} proyectos insertados correctamente\")"
   ]
  },
  {
   "cell_type": "markdown",
   "id": "f5be8cf7",
   "metadata": {},
   "source": [
    "#### Alumnos y Notas"
   ]
  },
  {
   "cell_type": "code",
   "execution_count": null,
   "id": "d846b71c",
   "metadata": {},
   "outputs": [],
   "source": [
    "alumnos_insertados = 0\n",
    "proyectos_insertados = 0\n",
    "notas_insertadas = 0\n",
    "\n",
    "for _, alumno in df_alumnos.iterrows():\n",
    "    # Obtener id_clase del alumno\n",
    "    id_campus = cursor.execute('SELECT id_campus FROM Campus WHERE nombre_campus = ?', \n",
    "                                (alumno['Campus'],)).fetchone()[0]\n",
    "    id_promocion = cursor.execute('SELECT id_promocion FROM Promocion WHERE nombre_promocion = ?', \n",
    "                                    (alumno['Promoción'],)).fetchone()[0]\n",
    "    \n",
    "    # Para alumnos, necesitamos hacer una suposición sobre modalidad y vertical\n",
    "    # Opción: tomar la primera clase que coincida con campus y promoción\n",
    "    id_clase_result = cursor.execute('''\n",
    "        SELECT id_clase FROM Clase \n",
    "        WHERE id_campus = ? AND id_promocion = ?\n",
    "        LIMIT 1\n",
    "    ''', (id_campus, id_promocion)).fetchone()\n",
    "    \n",
    "    if id_clase_result:\n",
    "        id_clase = id_clase_result[0]\n",
    "        \n",
    "        # Obtener la vertical de esa clase para asignarla a los proyectos\n",
    "        id_vertical = cursor.execute('''\n",
    "            SELECT id_vertical FROM Clase WHERE id_clase = ?\n",
    "        ''', (id_clase,)).fetchone()[0]\n",
    "        \n",
    "        # Insertar alumno\n",
    "        cursor.execute('''\n",
    "            INSERT OR IGNORE INTO Alumnos (nombre_alumno, email_alumno, id_clase)\n",
    "            VALUES (?, ?, ?)\n",
    "        ''', (alumno['Nombre'], alumno['Email'], id_clase))\n",
    "        \n",
    "        # Obtener id_alumno\n",
    "        id_alumno = cursor.execute('SELECT id_alumno FROM Alumnos WHERE email_alumno = ?', \n",
    "                                    (alumno['Email'],)).fetchone()[0]\n",
    "        \n",
    "        alumnos_insertados += 1\n",
    "        \n",
    "        # Insertar proyectos y notas del alumno\n",
    "        for proyecto_col in proyectos_columnas:\n",
    "            if pd.notna(alumno[proyecto_col]):\n",
    "                # Obtener vertical específica para este tipo de proyecto (opcional)\n",
    "                vertical_proyecto = proyecto_vertical_map.get(proyecto_col)\n",
    "                id_vertical_proyecto = id_vertical  # Por defecto, la vertical de su clase\n",
    "                \n",
    "                if vertical_proyecto:\n",
    "                    result_vert = cursor.execute(\n",
    "                        'SELECT id_vertical FROM Vertical WHERE nombre_vertical = ?', \n",
    "                        (vertical_proyecto,)\n",
    "                    ).fetchone()\n",
    "                    if result_vert:\n",
    "                        id_vertical_proyecto = result_vert[0]\n",
    "                \n",
    "                # Insertar el proyecto individual del alumno\n",
    "                cursor.execute('''\n",
    "                    INSERT OR IGNORE INTO Proyectos (nombre_proyecto, id_alumno, id_vertical)\n",
    "                    VALUES (?, ?, ?)\n",
    "                ''', (proyecto_col, id_alumno, id_vertical_proyecto))\n",
    "                \n",
    "                # Obtener el id_proyecto recién creado\n",
    "                id_proyecto = cursor.execute('''\n",
    "                    SELECT id_proyecto FROM Proyectos \n",
    "                    WHERE id_alumno = ? AND nombre_proyecto = ?\n",
    "                ''', (id_alumno, proyecto_col)).fetchone()[0]\n",
    "                \n",
    "                proyectos_insertados += 1\n",
    "                \n",
    "                # Insertar la nota para ese proyecto\n",
    "                cursor.execute('''\n",
    "                    INSERT OR IGNORE INTO Notas (id_alumno, id_proyecto, resultado)\n",
    "                    VALUES (?, ?, ?)\n",
    "                ''', (id_alumno, id_proyecto, alumno[proyecto_col]))\n",
    "                \n",
    "                notas_insertadas += 1\n",
    "\n",
    "conexion.commit()\n",
    "print(f\"✓ Insertados {alumnos_insertados} alumnos\")\n",
    "print(f\"✓ Insertados {proyectos_insertados} proyectos individuales\")\n",
    "print(f\"✓ Insertadas {notas_insertadas} notas\")"
   ]
  },
  {
   "cell_type": "code",
   "execution_count": null,
   "id": "793fc7dc",
   "metadata": {},
   "outputs": [],
   "source": [
    "\"\"\"\n",
    "# Creamos una lista de tuplas con los datos a insertar\n",
    "for _, alumno in df_alumnos.iterrows():\n",
    "    # Obtener id_clase del alumno\n",
    "    id_campus = cursor.execute('SELECT id_campus FROM Campus WHERE nombre_campus = ?', \n",
    "                                (alumno['Campus'],)).fetchone()[0]\n",
    "    id_promocion = cursor.execute('SELECT id_promocion FROM Promocion WHERE nombre_promocion = ?', \n",
    "                                    (alumno['Promoción'],)).fetchone()[0]\n",
    "    \n",
    "    # Para alumnos, necesitamos hacer una suposición sobre modalidad y vertical\n",
    "    # Opción: tomar la primera clase que coincida con campus y promoción\n",
    "    id_clase_result = cursor.execute('''\n",
    "        SELECT id_clase FROM Clase \n",
    "        WHERE id_campus = ? AND id_promocion = ?\n",
    "        LIMIT 1\n",
    "    ''', (id_campus, id_promocion)).fetchone()\n",
    "    \n",
    "    if id_clase_result:\n",
    "        id_clase = id_clase_result[0]\n",
    "        \n",
    "        # Insertar alumno\n",
    "        cursor.execute('''\n",
    "            INSERT OR IGNORE INTO Alumnos (nombre_alumno, email_alumno, id_clase)\n",
    "            VALUES (?, ?, ?)\n",
    "        ''', (alumno['Nombre'], alumno['Email'], id_clase))\n",
    "        \n",
    "        # Obtener id_alumno\n",
    "        id_alumno = cursor.execute('SELECT id_alumno FROM Alumnos WHERE email_alumno = ?', \n",
    "                                    (alumno['Email'],)).fetchone()[0]\n",
    "        \n",
    "        # Insertar notas de todos los proyectos\n",
    "        for proyecto_col in proyectos_columnas:\n",
    "            if pd.notna(alumno[proyecto_col]):\n",
    "                id_proyecto = cursor.execute('SELECT id_proyecto FROM Proyectos WHERE nombre_proyecto = ?', \n",
    "                                            (proyecto_col,)).fetchone()[0]\n",
    "                \n",
    "                cursor.execute('''\n",
    "                    INSERT OR IGNORE INTO Notas (id_alumno, id_proyecto, resultado)\n",
    "                    VALUES (?, ?, ?)\n",
    "                ''', (id_alumno, id_proyecto, alumno[proyecto_col]))\n",
    "\n",
    "conexion.commit()\n",
    "print(f\"✓ Insertados {len(df_alumnos)} alumnos con sus notas\")\n",
    "\"\"\""
   ]
  },
  {
   "cell_type": "markdown",
   "id": "7aa13b25",
   "metadata": {},
   "source": [
    "### Pruebas de Query"
   ]
  },
  {
   "cell_type": "code",
   "execution_count": 1,
   "id": "4deed900",
   "metadata": {},
   "outputs": [],
   "source": [
    "# Import para realizar Queries\n",
    "import sqlite3\n",
    "import pandas as pd\n",
    "conexion = sqlite3.connect('Proyecto_SQL.db')\n",
    "cursor = conexion.cursor()"
   ]
  },
  {
   "cell_type": "code",
   "execution_count": 2,
   "id": "fb528697",
   "metadata": {},
   "outputs": [],
   "source": [
    "# Función para realizar queries\n",
    "def sql_query(query):\n",
    "    return pd.read_sql(query, conexion)"
   ]
  },
  {
   "cell_type": "code",
   "execution_count": null,
   "id": "60f01dba",
   "metadata": {},
   "outputs": [],
   "source": [
    "# ¿A qué alumnos da clase la profesora Noa Yáñez?\n",
    "query = '''\n",
    "select nombre_alumno as Alumno\n",
    "from Alumnos\n",
    "join Profesor on clase.id_clase = Profesor.id_clase\n",
    "join Clase on Alumnos.id_clase = Clase.id_clase\n",
    "where Profesor.nombre_profesor = \"Noa Yáñez\"\n",
    "'''\n",
    "\n",
    "sql_query(query)"
   ]
  },
  {
   "cell_type": "code",
   "execution_count": null,
   "id": "59a53177",
   "metadata": {},
   "outputs": [],
   "source": [
    "# ¿A qué modalidad asiste el alumno con id 7?\n",
    "query = '''\n",
    "select nombre_alumno as Alumno, nombre_modalidad as Modalidad\n",
    "from Alumnos\n",
    "join Modalidad on Clase.id_modalidad = Modalidad.id_modalidad\n",
    "join Clase on Alumnos.id_clase = Clase.id_clase\n",
    "where id_alumno = \"7\"\n",
    "'''\n",
    "\n",
    "sql_query(query)"
   ]
  },
  {
   "cell_type": "code",
   "execution_count": null,
   "id": "47ac9750",
   "metadata": {},
   "outputs": [],
   "source": [
    "# ¿Qué notas tiene el alumno con id 10?\n",
    "query = '''\n",
    "select nombre_alumno as Alumno, nombre_proyecto as Proyecto, resultado as Nota\n",
    "from Proyectos\n",
    "join Alumnos on Proyectos.id_alumno = Alumnos.id_alumno\n",
    "join Notas on Proyectos.id_proyecto = Notas.id_proyecto\n",
    "where Alumnos.id_alumno = \"10\"\n",
    "'''\n",
    "\n",
    "sql_query(query)"
   ]
  },
  {
   "cell_type": "code",
   "execution_count": null,
   "id": "9ec9df6d",
   "metadata": {},
   "outputs": [],
   "source": [
    "# Promociones de Data Science\n",
    "query = '''\n",
    "select distinct Promocion.id_promocion, Promocion.nombre_promocion as Promoción, Promocion.fecha_promocion as Fecha\n",
    "from promocion\n",
    "join Clase on Promocion.id_promocion = Clase.id_promocion\n",
    "join Vertical on Clase.id_vertical = Vertical.id_vertical\n",
    "'''\n",
    "\n",
    "sql_query(query)"
   ]
  },
  {
   "cell_type": "code",
   "execution_count": null,
   "id": "b4dfa01b",
   "metadata": {},
   "outputs": [],
   "source": [
    "# Profesores de Online\n",
    "query = '''\n",
    "select distinct Profesor.id_profesor as ID_prof, Profesor.nombre_profesor as Nombre, Profesor.rol as Rol, Modalidad.nombre_modalidad as Modalidad\n",
    "from Profesor\n",
    "join Clase on Profesor.id_clase = Clase.id_clase\n",
    "join Modalidad on Clase.id_modalidad = Modalidad.id_modalidad\n",
    "where Modalidad.nombre_modalidad = \"Online\"\n",
    "'''\n",
    "\n",
    "sql_query(query)"
   ]
  },
  {
   "cell_type": "code",
   "execution_count": null,
   "id": "2207dc67",
   "metadata": {},
   "outputs": [],
   "source": [
    "# Emails de alumnos presenciales\n",
    "query = '''\n",
    "select distinct email_alumno\n",
    "from Alumnos\n",
    "join Clase on Alumnos.id_clase = Clase.id_clase\n",
    "join Modalidad on Clase.id_modalidad = Modalidad.id_modalidad\n",
    "where Modalidad.nombre_modalidad = \"Presencial\"\n",
    "'''\n",
    "\n",
    "sql_query(query)"
   ]
  },
  {
   "cell_type": "code",
   "execution_count": null,
   "id": "a61ff642",
   "metadata": {},
   "outputs": [],
   "source": [
    "# Cerrar la base de datos\n",
    "conexion.close()\n",
    "print(f\"\\n✅ Base de datos 'Proyecto_SQL.db' cerrada exitosamente\")"
   ]
  }
 ],
 "metadata": {
  "kernelspec": {
   "display_name": "Python 3",
   "language": "python",
   "name": "python3"
  },
  "language_info": {
   "codemirror_mode": {
    "name": "ipython",
    "version": 3
   },
   "file_extension": ".py",
   "mimetype": "text/x-python",
   "name": "python",
   "nbconvert_exporter": "python",
   "pygments_lexer": "ipython3",
   "version": "3.11.9"
  }
 },
 "nbformat": 4,
 "nbformat_minor": 5
}
