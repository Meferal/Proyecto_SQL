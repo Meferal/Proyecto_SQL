{
 "cells": [
  {
   "cell_type": "markdown",
   "id": "dff9d294",
   "metadata": {},
   "source": [
    "## Importación de librerias"
   ]
  },
  {
   "cell_type": "code",
   "execution_count": 1,
   "id": "044c1fb4",
   "metadata": {},
   "outputs": [
    {
     "name": "stdout",
     "output_type": "stream",
     "text": [
      "Librerías importadas correctamente\n"
     ]
    }
   ],
   "source": [
    "# Importamos sqlite3, la librería estándar de Python para trabajar con bases de datos SQLite\n",
    "# SQLite es una base de datos embebida que no requiere servidor\n",
    "import sqlite3\n",
    "\n",
    "# Importamos datetime para trabajar con fechas y horas\n",
    "from datetime import datetime\n",
    "\n",
    "# Importamos pandas para visualizar mejor los resultados\n",
    "import pandas as pd\n",
    "\n",
    "# Mensaje de confirmación para saber que todo se importó correctamente\n",
    "print(\"Librerías importadas correctamente\")"
   ]
  },
  {
   "cell_type": "code",
   "execution_count": 2,
   "id": "8517c7b1",
   "metadata": {},
   "outputs": [
    {
     "name": "stdout",
     "output_type": "stream",
     "text": [
      "Conexión establecida exitosamente\n",
      "Base de datos: Proyecto_SQL.db\n"
     ]
    }
   ],
   "source": [
    "# Creamos la conexión a la base de datos\n",
    "# sqlite3.connect() crea un archivo .db si no existe o se conecta a uno existente\n",
    "# Si el archivo 'Proyecto_SQL.db' no existe, se creará automáticamente\n",
    "conexion = sqlite3.connect('Proyecto_SQL.db')\n",
    "\n",
    "# Creamos un cursor, que es el objeto que usaremos para ejecutar comandos SQL\n",
    "# El cursor es como un \"puntero\" que nos permite navegar y modificar la base de datos\n",
    "cursor = conexion.cursor()\n",
    "\n",
    "# Mensajes informativos para confirmar que la conexión fue exitosa\n",
    "print(\"Conexión establecida exitosamente\")\n",
    "print(f\"Base de datos: Proyecto_SQL.db\")"
   ]
  },
  {
   "cell_type": "markdown",
   "id": "b3d87b24",
   "metadata": {},
   "source": [
    "## Importacion de datos de partida"
   ]
  },
  {
   "cell_type": "code",
   "execution_count": 3,
   "id": "033b653a",
   "metadata": {},
   "outputs": [],
   "source": [
    "df_1 = pd.read_csv(\"./data/clase_1.csv\", sep= \";\")\n",
    "df_2 = pd.read_csv(\"./data/clase_2.csv\", sep= \";\")\n",
    "df_3 = pd.read_csv(\"./data/clase_3.csv\", sep= \";\")\n",
    "df_4 = pd.read_csv(\"./data/clase_4.csv\", sep= \";\")\n",
    "df_5 = pd.read_csv(\"./data/claustro.csv\", sep= \";\")"
   ]
  },
  {
   "cell_type": "code",
   "execution_count": 4,
   "id": "41511b82",
   "metadata": {},
   "outputs": [
    {
     "data": {
      "text/html": [
       "<div>\n",
       "<style scoped>\n",
       "    .dataframe tbody tr th:only-of-type {\n",
       "        vertical-align: middle;\n",
       "    }\n",
       "\n",
       "    .dataframe tbody tr th {\n",
       "        vertical-align: top;\n",
       "    }\n",
       "\n",
       "    .dataframe thead th {\n",
       "        text-align: right;\n",
       "    }\n",
       "</style>\n",
       "<table border=\"1\" class=\"dataframe\">\n",
       "  <thead>\n",
       "    <tr style=\"text-align: right;\">\n",
       "      <th></th>\n",
       "      <th>Nombre</th>\n",
       "      <th>Email</th>\n",
       "      <th>Promoción</th>\n",
       "      <th>Fecha_comienzo</th>\n",
       "      <th>Campus</th>\n",
       "      <th>Proyecto_HLF</th>\n",
       "      <th>Proyecto_EDA</th>\n",
       "      <th>Proyecto_BBDD</th>\n",
       "      <th>Proyecto_ML</th>\n",
       "      <th>Proyecto_Deployment</th>\n",
       "    </tr>\n",
       "  </thead>\n",
       "  <tbody>\n",
       "    <tr>\n",
       "      <th>0</th>\n",
       "      <td>Jafet Casals</td>\n",
       "      <td>Jafet_Casals@gmail.com</td>\n",
       "      <td>Septiembre</td>\n",
       "      <td>18/09/2023</td>\n",
       "      <td>Madrid</td>\n",
       "      <td>Apto</td>\n",
       "      <td>No Apto</td>\n",
       "      <td>Apto</td>\n",
       "      <td>Apto</td>\n",
       "      <td>Apto</td>\n",
       "    </tr>\n",
       "    <tr>\n",
       "      <th>1</th>\n",
       "      <td>Jorge Manzanares</td>\n",
       "      <td>Jorge_Manzanares@gmail.com</td>\n",
       "      <td>Septiembre</td>\n",
       "      <td>18/09/2023</td>\n",
       "      <td>Madrid</td>\n",
       "      <td>Apto</td>\n",
       "      <td>No Apto</td>\n",
       "      <td>Apto</td>\n",
       "      <td>Apto</td>\n",
       "      <td>Apto</td>\n",
       "    </tr>\n",
       "    <tr>\n",
       "      <th>2</th>\n",
       "      <td>Onofre Adadia</td>\n",
       "      <td>Onofre_Adadia@gmail.com</td>\n",
       "      <td>Septiembre</td>\n",
       "      <td>18/09/2023</td>\n",
       "      <td>Madrid</td>\n",
       "      <td>Apto</td>\n",
       "      <td>Apto</td>\n",
       "      <td>Apto</td>\n",
       "      <td>No Apto</td>\n",
       "      <td>Apto</td>\n",
       "    </tr>\n",
       "    <tr>\n",
       "      <th>3</th>\n",
       "      <td>Merche Prada</td>\n",
       "      <td>Merche_Prada@gmail.com</td>\n",
       "      <td>Septiembre</td>\n",
       "      <td>18/09/2023</td>\n",
       "      <td>Madrid</td>\n",
       "      <td>Apto</td>\n",
       "      <td>No Apto</td>\n",
       "      <td>No Apto</td>\n",
       "      <td>Apto</td>\n",
       "      <td>No Apto</td>\n",
       "    </tr>\n",
       "    <tr>\n",
       "      <th>4</th>\n",
       "      <td>Pilar Abella</td>\n",
       "      <td>Pilar_Abella@gmail.com</td>\n",
       "      <td>Septiembre</td>\n",
       "      <td>18/09/2023</td>\n",
       "      <td>Madrid</td>\n",
       "      <td>Apto</td>\n",
       "      <td>No Apto</td>\n",
       "      <td>Apto</td>\n",
       "      <td>Apto</td>\n",
       "      <td>Apto</td>\n",
       "    </tr>\n",
       "  </tbody>\n",
       "</table>\n",
       "</div>"
      ],
      "text/plain": [
       "             Nombre                       Email   Promoción Fecha_comienzo  \\\n",
       "0      Jafet Casals      Jafet_Casals@gmail.com  Septiembre     18/09/2023   \n",
       "1  Jorge Manzanares  Jorge_Manzanares@gmail.com  Septiembre     18/09/2023   \n",
       "2     Onofre Adadia     Onofre_Adadia@gmail.com  Septiembre     18/09/2023   \n",
       "3      Merche Prada      Merche_Prada@gmail.com  Septiembre     18/09/2023   \n",
       "4      Pilar Abella      Pilar_Abella@gmail.com  Septiembre     18/09/2023   \n",
       "\n",
       "   Campus Proyecto_HLF Proyecto_EDA Proyecto_BBDD Proyecto_ML  \\\n",
       "0  Madrid         Apto      No Apto          Apto        Apto   \n",
       "1  Madrid         Apto      No Apto          Apto        Apto   \n",
       "2  Madrid         Apto         Apto          Apto     No Apto   \n",
       "3  Madrid         Apto      No Apto       No Apto        Apto   \n",
       "4  Madrid         Apto      No Apto          Apto        Apto   \n",
       "\n",
       "  Proyecto_Deployment  \n",
       "0                Apto  \n",
       "1                Apto  \n",
       "2                Apto  \n",
       "3             No Apto  \n",
       "4                Apto  "
      ]
     },
     "execution_count": 4,
     "metadata": {},
     "output_type": "execute_result"
    }
   ],
   "source": [
    "df_1.head()"
   ]
  },
  {
   "cell_type": "code",
   "execution_count": 5,
   "id": "b9cb72e3",
   "metadata": {},
   "outputs": [
    {
     "data": {
      "text/html": [
       "<div>\n",
       "<style scoped>\n",
       "    .dataframe tbody tr th:only-of-type {\n",
       "        vertical-align: middle;\n",
       "    }\n",
       "\n",
       "    .dataframe tbody tr th {\n",
       "        vertical-align: top;\n",
       "    }\n",
       "\n",
       "    .dataframe thead th {\n",
       "        text-align: right;\n",
       "    }\n",
       "</style>\n",
       "<table border=\"1\" class=\"dataframe\">\n",
       "  <thead>\n",
       "    <tr style=\"text-align: right;\">\n",
       "      <th></th>\n",
       "      <th>Nombre</th>\n",
       "      <th>Email</th>\n",
       "      <th>Promoción</th>\n",
       "      <th>Fecha_comienzo</th>\n",
       "      <th>Campus</th>\n",
       "      <th>Proyecto_HLF</th>\n",
       "      <th>Proyecto_EDA</th>\n",
       "      <th>Proyecto_BBDD</th>\n",
       "      <th>Proyecto_ML</th>\n",
       "      <th>Proyecto_Deployment</th>\n",
       "    </tr>\n",
       "  </thead>\n",
       "  <tbody>\n",
       "    <tr>\n",
       "      <th>0</th>\n",
       "      <td>Guillermo Borrego</td>\n",
       "      <td>Guillermo_Borrego@gmail.com</td>\n",
       "      <td>Febrero</td>\n",
       "      <td>12/02/2024</td>\n",
       "      <td>Madrid</td>\n",
       "      <td>Apto</td>\n",
       "      <td>No Apto</td>\n",
       "      <td>No Apto</td>\n",
       "      <td>Apto</td>\n",
       "      <td>No Apto</td>\n",
       "    </tr>\n",
       "    <tr>\n",
       "      <th>1</th>\n",
       "      <td>Sergio Aguirre</td>\n",
       "      <td>Sergio_Aguirre@gmail.com</td>\n",
       "      <td>Febrero</td>\n",
       "      <td>12/02/2024</td>\n",
       "      <td>Madrid</td>\n",
       "      <td>Apto</td>\n",
       "      <td>No Apto</td>\n",
       "      <td>Apto</td>\n",
       "      <td>Apto</td>\n",
       "      <td>No Apto</td>\n",
       "    </tr>\n",
       "    <tr>\n",
       "      <th>2</th>\n",
       "      <td>Carlito Carrión</td>\n",
       "      <td>Carlito_Carrión@gmail.com</td>\n",
       "      <td>Febrero</td>\n",
       "      <td>12/02/2024</td>\n",
       "      <td>Madrid</td>\n",
       "      <td>Apto</td>\n",
       "      <td>No Apto</td>\n",
       "      <td>Apto</td>\n",
       "      <td>Apto</td>\n",
       "      <td>Apto</td>\n",
       "    </tr>\n",
       "    <tr>\n",
       "      <th>3</th>\n",
       "      <td>Haydée Figueroa</td>\n",
       "      <td>Haydée_Figueroa@gmail.com</td>\n",
       "      <td>Febrero</td>\n",
       "      <td>12/02/2024</td>\n",
       "      <td>Madrid</td>\n",
       "      <td>Apto</td>\n",
       "      <td>Apto</td>\n",
       "      <td>Apto</td>\n",
       "      <td>Apto</td>\n",
       "      <td>Apto</td>\n",
       "    </tr>\n",
       "    <tr>\n",
       "      <th>4</th>\n",
       "      <td>Chita Mancebo</td>\n",
       "      <td>Chita_Mancebo@gmail.com</td>\n",
       "      <td>Febrero</td>\n",
       "      <td>12/02/2024</td>\n",
       "      <td>Madrid</td>\n",
       "      <td>No Apto</td>\n",
       "      <td>Apto</td>\n",
       "      <td>No Apto</td>\n",
       "      <td>Apto</td>\n",
       "      <td>Apto</td>\n",
       "    </tr>\n",
       "  </tbody>\n",
       "</table>\n",
       "</div>"
      ],
      "text/plain": [
       "              Nombre                        Email Promoción Fecha_comienzo  \\\n",
       "0  Guillermo Borrego  Guillermo_Borrego@gmail.com   Febrero     12/02/2024   \n",
       "1     Sergio Aguirre     Sergio_Aguirre@gmail.com   Febrero     12/02/2024   \n",
       "2    Carlito Carrión    Carlito_Carrión@gmail.com   Febrero     12/02/2024   \n",
       "3    Haydée Figueroa    Haydée_Figueroa@gmail.com   Febrero     12/02/2024   \n",
       "4      Chita Mancebo      Chita_Mancebo@gmail.com   Febrero     12/02/2024   \n",
       "\n",
       "   Campus Proyecto_HLF Proyecto_EDA Proyecto_BBDD Proyecto_ML  \\\n",
       "0  Madrid         Apto      No Apto       No Apto        Apto   \n",
       "1  Madrid         Apto      No Apto          Apto        Apto   \n",
       "2  Madrid         Apto      No Apto          Apto        Apto   \n",
       "3  Madrid         Apto         Apto          Apto        Apto   \n",
       "4  Madrid      No Apto         Apto       No Apto        Apto   \n",
       "\n",
       "  Proyecto_Deployment  \n",
       "0             No Apto  \n",
       "1             No Apto  \n",
       "2                Apto  \n",
       "3                Apto  \n",
       "4                Apto  "
      ]
     },
     "execution_count": 5,
     "metadata": {},
     "output_type": "execute_result"
    }
   ],
   "source": [
    "df_2.head()"
   ]
  },
  {
   "cell_type": "code",
   "execution_count": 6,
   "id": "b1bf032a",
   "metadata": {},
   "outputs": [
    {
     "data": {
      "text/html": [
       "<div>\n",
       "<style scoped>\n",
       "    .dataframe tbody tr th:only-of-type {\n",
       "        vertical-align: middle;\n",
       "    }\n",
       "\n",
       "    .dataframe tbody tr th {\n",
       "        vertical-align: top;\n",
       "    }\n",
       "\n",
       "    .dataframe thead th {\n",
       "        text-align: right;\n",
       "    }\n",
       "</style>\n",
       "<table border=\"1\" class=\"dataframe\">\n",
       "  <thead>\n",
       "    <tr style=\"text-align: right;\">\n",
       "      <th></th>\n",
       "      <th>Nombre</th>\n",
       "      <th>Email</th>\n",
       "      <th>Promoción</th>\n",
       "      <th>Fecha_comienzo</th>\n",
       "      <th>Campus</th>\n",
       "      <th>Proyecto_WebDev</th>\n",
       "      <th>Proyecto_FrontEnd</th>\n",
       "      <th>Proyecto_Backend</th>\n",
       "      <th>Proyecto_React</th>\n",
       "      <th>Proyecto_FullStack</th>\n",
       "    </tr>\n",
       "  </thead>\n",
       "  <tbody>\n",
       "    <tr>\n",
       "      <th>0</th>\n",
       "      <td>Amor Larrañaga</td>\n",
       "      <td>Amor_Larrañaga@gmail.com</td>\n",
       "      <td>Septiembre</td>\n",
       "      <td>18/09/2023</td>\n",
       "      <td>Madrid</td>\n",
       "      <td>Apto</td>\n",
       "      <td>Apto</td>\n",
       "      <td>Apto</td>\n",
       "      <td>Apto</td>\n",
       "      <td>No Apto</td>\n",
       "    </tr>\n",
       "    <tr>\n",
       "      <th>1</th>\n",
       "      <td>Teodoro Alberola</td>\n",
       "      <td>Teodoro_Alberola@gmail.com</td>\n",
       "      <td>Septiembre</td>\n",
       "      <td>18/09/2023</td>\n",
       "      <td>Madrid</td>\n",
       "      <td>No Apto</td>\n",
       "      <td>No Apto</td>\n",
       "      <td>Apto</td>\n",
       "      <td>No Apto</td>\n",
       "      <td>Apto</td>\n",
       "    </tr>\n",
       "    <tr>\n",
       "      <th>2</th>\n",
       "      <td>Cleto Plana</td>\n",
       "      <td>Cleto_Plana@gmail.com</td>\n",
       "      <td>Septiembre</td>\n",
       "      <td>18/09/2023</td>\n",
       "      <td>Madrid</td>\n",
       "      <td>Apto</td>\n",
       "      <td>No Apto</td>\n",
       "      <td>Apto</td>\n",
       "      <td>No Apto</td>\n",
       "      <td>Apto</td>\n",
       "    </tr>\n",
       "    <tr>\n",
       "      <th>3</th>\n",
       "      <td>Aitana Sebastián</td>\n",
       "      <td>Aitana_Sebastián@gmail.com</td>\n",
       "      <td>Septiembre</td>\n",
       "      <td>18/09/2023</td>\n",
       "      <td>Madrid</td>\n",
       "      <td>Apto</td>\n",
       "      <td>No Apto</td>\n",
       "      <td>Apto</td>\n",
       "      <td>No Apto</td>\n",
       "      <td>Apto</td>\n",
       "    </tr>\n",
       "    <tr>\n",
       "      <th>4</th>\n",
       "      <td>Dolores Valbuena</td>\n",
       "      <td>Dolores_Valbuena@gmail.com</td>\n",
       "      <td>Septiembre</td>\n",
       "      <td>18/09/2023</td>\n",
       "      <td>Madrid</td>\n",
       "      <td>Apto</td>\n",
       "      <td>Apto</td>\n",
       "      <td>Apto</td>\n",
       "      <td>Apto</td>\n",
       "      <td>No Apto</td>\n",
       "    </tr>\n",
       "  </tbody>\n",
       "</table>\n",
       "</div>"
      ],
      "text/plain": [
       "             Nombre                       Email   Promoción Fecha_comienzo  \\\n",
       "0    Amor Larrañaga    Amor_Larrañaga@gmail.com  Septiembre     18/09/2023   \n",
       "1  Teodoro Alberola  Teodoro_Alberola@gmail.com  Septiembre     18/09/2023   \n",
       "2       Cleto Plana       Cleto_Plana@gmail.com  Septiembre     18/09/2023   \n",
       "3  Aitana Sebastián  Aitana_Sebastián@gmail.com  Septiembre     18/09/2023   \n",
       "4  Dolores Valbuena  Dolores_Valbuena@gmail.com  Septiembre     18/09/2023   \n",
       "\n",
       "   Campus Proyecto_WebDev Proyecto_FrontEnd Proyecto_Backend Proyecto_React  \\\n",
       "0  Madrid            Apto              Apto             Apto           Apto   \n",
       "1  Madrid         No Apto           No Apto             Apto        No Apto   \n",
       "2  Madrid            Apto           No Apto             Apto        No Apto   \n",
       "3  Madrid            Apto           No Apto             Apto        No Apto   \n",
       "4  Madrid            Apto              Apto             Apto           Apto   \n",
       "\n",
       "  Proyecto_FullStack  \n",
       "0            No Apto  \n",
       "1               Apto  \n",
       "2               Apto  \n",
       "3               Apto  \n",
       "4            No Apto  "
      ]
     },
     "execution_count": 6,
     "metadata": {},
     "output_type": "execute_result"
    }
   ],
   "source": [
    "df_3.rename(columns= {\"Proyecto_FullSatck\": \"Proyecto_FullStack\"}, inplace= True)\n",
    "df_3.head()"
   ]
  },
  {
   "cell_type": "code",
   "execution_count": 7,
   "id": "ca5eca5d",
   "metadata": {},
   "outputs": [
    {
     "data": {
      "text/html": [
       "<div>\n",
       "<style scoped>\n",
       "    .dataframe tbody tr th:only-of-type {\n",
       "        vertical-align: middle;\n",
       "    }\n",
       "\n",
       "    .dataframe tbody tr th {\n",
       "        vertical-align: top;\n",
       "    }\n",
       "\n",
       "    .dataframe thead th {\n",
       "        text-align: right;\n",
       "    }\n",
       "</style>\n",
       "<table border=\"1\" class=\"dataframe\">\n",
       "  <thead>\n",
       "    <tr style=\"text-align: right;\">\n",
       "      <th></th>\n",
       "      <th>Nombre</th>\n",
       "      <th>Email</th>\n",
       "      <th>Promoción</th>\n",
       "      <th>Fecha_comienzo</th>\n",
       "      <th>Campus</th>\n",
       "      <th>Proyecto_WebDev</th>\n",
       "      <th>Proyecto_FrontEnd</th>\n",
       "      <th>Proyecto_Backend</th>\n",
       "      <th>Proyecto_React</th>\n",
       "      <th>Proyecto_FullStack</th>\n",
       "    </tr>\n",
       "  </thead>\n",
       "  <tbody>\n",
       "    <tr>\n",
       "      <th>0</th>\n",
       "      <td>Teresa Laguna</td>\n",
       "      <td>Teresa_Laguna@gmail.com</td>\n",
       "      <td>Febrero</td>\n",
       "      <td>12/02/2024</td>\n",
       "      <td>Valencia</td>\n",
       "      <td>Apto</td>\n",
       "      <td>Apto</td>\n",
       "      <td>Apto</td>\n",
       "      <td>Apto</td>\n",
       "      <td>Apto</td>\n",
       "    </tr>\n",
       "    <tr>\n",
       "      <th>1</th>\n",
       "      <td>Estrella Murillo</td>\n",
       "      <td>Estrella_Murillo@gmail.com</td>\n",
       "      <td>Febrero</td>\n",
       "      <td>12/02/2024</td>\n",
       "      <td>Valencia</td>\n",
       "      <td>Apto</td>\n",
       "      <td>Apto</td>\n",
       "      <td>No Apto</td>\n",
       "      <td>Apto</td>\n",
       "      <td>Apto</td>\n",
       "    </tr>\n",
       "    <tr>\n",
       "      <th>2</th>\n",
       "      <td>Ernesto Uriarte</td>\n",
       "      <td>Ernesto_Uriarte@gmail.com</td>\n",
       "      <td>Febrero</td>\n",
       "      <td>12/02/2024</td>\n",
       "      <td>Valencia</td>\n",
       "      <td>Apto</td>\n",
       "      <td>Apto</td>\n",
       "      <td>Apto</td>\n",
       "      <td>Apto</td>\n",
       "      <td>Apto</td>\n",
       "    </tr>\n",
       "    <tr>\n",
       "      <th>3</th>\n",
       "      <td>Daniela Guitart</td>\n",
       "      <td>Daniela_Guitart@gmail.com</td>\n",
       "      <td>Febrero</td>\n",
       "      <td>12/02/2024</td>\n",
       "      <td>Valencia</td>\n",
       "      <td>Apto</td>\n",
       "      <td>No Apto</td>\n",
       "      <td>No Apto</td>\n",
       "      <td>Apto</td>\n",
       "      <td>Apto</td>\n",
       "    </tr>\n",
       "    <tr>\n",
       "      <th>4</th>\n",
       "      <td>Timoteo Trillo</td>\n",
       "      <td>Timoteo_Trillo@gmail.com</td>\n",
       "      <td>Febrero</td>\n",
       "      <td>12/02/2024</td>\n",
       "      <td>Valencia</td>\n",
       "      <td>No Apto</td>\n",
       "      <td>Apto</td>\n",
       "      <td>Apto</td>\n",
       "      <td>Apto</td>\n",
       "      <td>No Apto</td>\n",
       "    </tr>\n",
       "  </tbody>\n",
       "</table>\n",
       "</div>"
      ],
      "text/plain": [
       "             Nombre                       Email Promoción Fecha_comienzo  \\\n",
       "0     Teresa Laguna     Teresa_Laguna@gmail.com   Febrero     12/02/2024   \n",
       "1  Estrella Murillo  Estrella_Murillo@gmail.com   Febrero     12/02/2024   \n",
       "2   Ernesto Uriarte   Ernesto_Uriarte@gmail.com   Febrero     12/02/2024   \n",
       "3   Daniela Guitart   Daniela_Guitart@gmail.com   Febrero     12/02/2024   \n",
       "4    Timoteo Trillo    Timoteo_Trillo@gmail.com   Febrero     12/02/2024   \n",
       "\n",
       "     Campus Proyecto_WebDev Proyecto_FrontEnd Proyecto_Backend Proyecto_React  \\\n",
       "0  Valencia            Apto              Apto             Apto           Apto   \n",
       "1  Valencia            Apto              Apto          No Apto           Apto   \n",
       "2  Valencia            Apto              Apto             Apto           Apto   \n",
       "3  Valencia            Apto           No Apto          No Apto           Apto   \n",
       "4  Valencia         No Apto              Apto             Apto           Apto   \n",
       "\n",
       "  Proyecto_FullStack  \n",
       "0               Apto  \n",
       "1               Apto  \n",
       "2               Apto  \n",
       "3               Apto  \n",
       "4            No Apto  "
      ]
     },
     "execution_count": 7,
     "metadata": {},
     "output_type": "execute_result"
    }
   ],
   "source": [
    "df_4.rename(columns= {\"Proyecto_FullSatck\": \"Proyecto_FullStack\"}, inplace= True)\n",
    "df_4.head()"
   ]
  },
  {
   "cell_type": "code",
   "execution_count": 8,
   "id": "4f17499a",
   "metadata": {},
   "outputs": [
    {
     "data": {
      "text/html": [
       "<div>\n",
       "<style scoped>\n",
       "    .dataframe tbody tr th:only-of-type {\n",
       "        vertical-align: middle;\n",
       "    }\n",
       "\n",
       "    .dataframe tbody tr th {\n",
       "        vertical-align: top;\n",
       "    }\n",
       "\n",
       "    .dataframe thead th {\n",
       "        text-align: right;\n",
       "    }\n",
       "</style>\n",
       "<table border=\"1\" class=\"dataframe\">\n",
       "  <thead>\n",
       "    <tr style=\"text-align: right;\">\n",
       "      <th></th>\n",
       "      <th>Nombre</th>\n",
       "      <th>Rol</th>\n",
       "      <th>Vertical</th>\n",
       "      <th>Promocion</th>\n",
       "      <th>Campus</th>\n",
       "      <th>Modalidad</th>\n",
       "    </tr>\n",
       "  </thead>\n",
       "  <tbody>\n",
       "    <tr>\n",
       "      <th>0</th>\n",
       "      <td>Noa Yáñez</td>\n",
       "      <td>TA</td>\n",
       "      <td>DS</td>\n",
       "      <td>Septiembre</td>\n",
       "      <td>Madrid</td>\n",
       "      <td>Presencial</td>\n",
       "    </tr>\n",
       "    <tr>\n",
       "      <th>1</th>\n",
       "      <td>Saturnina Benitez</td>\n",
       "      <td>TA</td>\n",
       "      <td>DS</td>\n",
       "      <td>Septiembre</td>\n",
       "      <td>Madrid</td>\n",
       "      <td>Presencial</td>\n",
       "    </tr>\n",
       "    <tr>\n",
       "      <th>2</th>\n",
       "      <td>Anna Feliu</td>\n",
       "      <td>TA</td>\n",
       "      <td>FS</td>\n",
       "      <td>Septiembre</td>\n",
       "      <td>Madrid</td>\n",
       "      <td>Presencial</td>\n",
       "    </tr>\n",
       "    <tr>\n",
       "      <th>3</th>\n",
       "      <td>Rosalva Ayuso</td>\n",
       "      <td>TA</td>\n",
       "      <td>FS</td>\n",
       "      <td>Septiembre</td>\n",
       "      <td>Valencia</td>\n",
       "      <td>Presencial</td>\n",
       "    </tr>\n",
       "    <tr>\n",
       "      <th>4</th>\n",
       "      <td>Ana Sofía Ferrer</td>\n",
       "      <td>TA</td>\n",
       "      <td>FS</td>\n",
       "      <td>Febrero</td>\n",
       "      <td>Valencia</td>\n",
       "      <td>Presencial</td>\n",
       "    </tr>\n",
       "  </tbody>\n",
       "</table>\n",
       "</div>"
      ],
      "text/plain": [
       "              Nombre Rol Vertical   Promocion    Campus   Modalidad\n",
       "0          Noa Yáñez  TA       DS  Septiembre    Madrid  Presencial\n",
       "1  Saturnina Benitez  TA       DS  Septiembre    Madrid  Presencial\n",
       "2         Anna Feliu  TA       FS  Septiembre    Madrid  Presencial\n",
       "3      Rosalva Ayuso  TA       FS  Septiembre  Valencia  Presencial\n",
       "4   Ana Sofía Ferrer  TA       FS     Febrero  Valencia  Presencial"
      ]
     },
     "execution_count": 8,
     "metadata": {},
     "output_type": "execute_result"
    }
   ],
   "source": [
    "df_5.head()"
   ]
  },
  {
   "cell_type": "code",
   "execution_count": 9,
   "id": "5a419f64",
   "metadata": {},
   "outputs": [
    {
     "data": {
      "text/html": [
       "<div>\n",
       "<style scoped>\n",
       "    .dataframe tbody tr th:only-of-type {\n",
       "        vertical-align: middle;\n",
       "    }\n",
       "\n",
       "    .dataframe tbody tr th {\n",
       "        vertical-align: top;\n",
       "    }\n",
       "\n",
       "    .dataframe thead th {\n",
       "        text-align: right;\n",
       "    }\n",
       "</style>\n",
       "<table border=\"1\" class=\"dataframe\">\n",
       "  <thead>\n",
       "    <tr style=\"text-align: right;\">\n",
       "      <th></th>\n",
       "      <th>Nombre</th>\n",
       "      <th>Email</th>\n",
       "      <th>Promoción</th>\n",
       "      <th>Fecha_comienzo</th>\n",
       "      <th>Campus</th>\n",
       "      <th>Proyecto_HLF</th>\n",
       "      <th>Proyecto_EDA</th>\n",
       "      <th>Proyecto_BBDD</th>\n",
       "      <th>Proyecto_ML</th>\n",
       "      <th>Proyecto_Deployment</th>\n",
       "      <th>Proyecto_WebDev</th>\n",
       "      <th>Proyecto_FrontEnd</th>\n",
       "      <th>Proyecto_Backend</th>\n",
       "      <th>Proyecto_React</th>\n",
       "      <th>Proyecto_FullStack</th>\n",
       "    </tr>\n",
       "  </thead>\n",
       "  <tbody>\n",
       "    <tr>\n",
       "      <th>0</th>\n",
       "      <td>Abraham Vélez</td>\n",
       "      <td>Abraham_Vélez@gmail.com</td>\n",
       "      <td>Septiembre</td>\n",
       "      <td>18/09/2023</td>\n",
       "      <td>Madrid</td>\n",
       "      <td>Apto</td>\n",
       "      <td>No Apto</td>\n",
       "      <td>No Apto</td>\n",
       "      <td>Apto</td>\n",
       "      <td>Apto</td>\n",
       "      <td>NaN</td>\n",
       "      <td>NaN</td>\n",
       "      <td>NaN</td>\n",
       "      <td>NaN</td>\n",
       "      <td>NaN</td>\n",
       "    </tr>\n",
       "    <tr>\n",
       "      <th>1</th>\n",
       "      <td>Aitana Sebastián</td>\n",
       "      <td>Aitana_Sebastián@gmail.com</td>\n",
       "      <td>Septiembre</td>\n",
       "      <td>18/09/2023</td>\n",
       "      <td>Madrid</td>\n",
       "      <td>NaN</td>\n",
       "      <td>NaN</td>\n",
       "      <td>NaN</td>\n",
       "      <td>NaN</td>\n",
       "      <td>NaN</td>\n",
       "      <td>Apto</td>\n",
       "      <td>No Apto</td>\n",
       "      <td>Apto</td>\n",
       "      <td>No Apto</td>\n",
       "      <td>Apto</td>\n",
       "    </tr>\n",
       "    <tr>\n",
       "      <th>2</th>\n",
       "      <td>Albino Macias</td>\n",
       "      <td>Albino_Macias@gmail.com</td>\n",
       "      <td>Septiembre</td>\n",
       "      <td>18/09/2023</td>\n",
       "      <td>Madrid</td>\n",
       "      <td>NaN</td>\n",
       "      <td>NaN</td>\n",
       "      <td>NaN</td>\n",
       "      <td>NaN</td>\n",
       "      <td>NaN</td>\n",
       "      <td>No Apto</td>\n",
       "      <td>Apto</td>\n",
       "      <td>Apto</td>\n",
       "      <td>Apto</td>\n",
       "      <td>Apto</td>\n",
       "    </tr>\n",
       "    <tr>\n",
       "      <th>3</th>\n",
       "      <td>Alejandra Vilaplana</td>\n",
       "      <td>Alejandra_Vilaplana@gmail.com</td>\n",
       "      <td>Febrero</td>\n",
       "      <td>12/02/2024</td>\n",
       "      <td>Valencia</td>\n",
       "      <td>NaN</td>\n",
       "      <td>NaN</td>\n",
       "      <td>NaN</td>\n",
       "      <td>NaN</td>\n",
       "      <td>NaN</td>\n",
       "      <td>No Apto</td>\n",
       "      <td>No Apto</td>\n",
       "      <td>No Apto</td>\n",
       "      <td>Apto</td>\n",
       "      <td>Apto</td>\n",
       "    </tr>\n",
       "    <tr>\n",
       "      <th>4</th>\n",
       "      <td>Amor Larrañaga</td>\n",
       "      <td>Amor_Larrañaga@gmail.com</td>\n",
       "      <td>Septiembre</td>\n",
       "      <td>18/09/2023</td>\n",
       "      <td>Madrid</td>\n",
       "      <td>NaN</td>\n",
       "      <td>NaN</td>\n",
       "      <td>NaN</td>\n",
       "      <td>NaN</td>\n",
       "      <td>NaN</td>\n",
       "      <td>Apto</td>\n",
       "      <td>Apto</td>\n",
       "      <td>Apto</td>\n",
       "      <td>Apto</td>\n",
       "      <td>No Apto</td>\n",
       "    </tr>\n",
       "  </tbody>\n",
       "</table>\n",
       "</div>"
      ],
      "text/plain": [
       "                Nombre                          Email   Promoción  \\\n",
       "0        Abraham Vélez        Abraham_Vélez@gmail.com  Septiembre   \n",
       "1     Aitana Sebastián     Aitana_Sebastián@gmail.com  Septiembre   \n",
       "2        Albino Macias        Albino_Macias@gmail.com  Septiembre   \n",
       "3  Alejandra Vilaplana  Alejandra_Vilaplana@gmail.com     Febrero   \n",
       "4       Amor Larrañaga       Amor_Larrañaga@gmail.com  Septiembre   \n",
       "\n",
       "  Fecha_comienzo    Campus Proyecto_HLF Proyecto_EDA Proyecto_BBDD  \\\n",
       "0     18/09/2023    Madrid         Apto      No Apto       No Apto   \n",
       "1     18/09/2023    Madrid          NaN          NaN           NaN   \n",
       "2     18/09/2023    Madrid          NaN          NaN           NaN   \n",
       "3     12/02/2024  Valencia          NaN          NaN           NaN   \n",
       "4     18/09/2023    Madrid          NaN          NaN           NaN   \n",
       "\n",
       "  Proyecto_ML Proyecto_Deployment Proyecto_WebDev Proyecto_FrontEnd  \\\n",
       "0        Apto                Apto             NaN               NaN   \n",
       "1         NaN                 NaN            Apto           No Apto   \n",
       "2         NaN                 NaN         No Apto              Apto   \n",
       "3         NaN                 NaN         No Apto           No Apto   \n",
       "4         NaN                 NaN            Apto              Apto   \n",
       "\n",
       "  Proyecto_Backend Proyecto_React Proyecto_FullStack  \n",
       "0              NaN            NaN                NaN  \n",
       "1             Apto        No Apto               Apto  \n",
       "2             Apto           Apto               Apto  \n",
       "3          No Apto           Apto               Apto  \n",
       "4             Apto           Apto            No Apto  "
      ]
     },
     "execution_count": 9,
     "metadata": {},
     "output_type": "execute_result"
    }
   ],
   "source": [
    "# Merge de los 4 primeros dataframe al tratarse del mismo tipo de información y renombrar df_5\n",
    "df_alumnos = df_1.merge(df_2, how= 'outer').merge(df_3,how= 'outer').merge(df_4, how= 'outer')\n",
    "df_profesores = df_5\n",
    "df_alumnos.head()"
   ]
  },
  {
   "cell_type": "markdown",
   "id": "2fe94c3c",
   "metadata": {},
   "source": [
    "## Creación de tablas"
   ]
  },
  {
   "cell_type": "markdown",
   "id": "7feb6308",
   "metadata": {},
   "source": [
    "#### Campus"
   ]
  },
  {
   "cell_type": "code",
   "execution_count": 10,
   "id": "ae851715",
   "metadata": {},
   "outputs": [
    {
     "name": "stdout",
     "output_type": "stream",
     "text": [
      "✓ Tabla Campus creada exitosamente\n"
     ]
    }
   ],
   "source": [
    "# Primero eliminamos la tabla si ya existe (útil para reiniciar desde cero)\n",
    "# DROP TABLE IF EXISTS es una operación segura que no da error si la tabla no existe\n",
    "cursor.execute('DROP TABLE IF EXISTS Campus')\n",
    "\n",
    "# Creamos la tabla Campus con SQL usando cursor.execute()\n",
    "cursor.execute('''\n",
    "    CREATE TABLE Campus (\n",
    "        id_campus INTEGER PRIMARY KEY AUTOINCREMENT,\n",
    "        nombre_campus VCHAR(50) NOT NULL\n",
    "    )\n",
    "''')\n",
    "\n",
    "# Guardamos los cambios en la base de datos\n",
    "# commit() hace permanentes los cambios - sin esto, los cambios se pierden\n",
    "conexion.commit()\n",
    "\n",
    "print(\"✓ Tabla Campus creada exitosamente\")"
   ]
  },
  {
   "cell_type": "markdown",
   "id": "742fa591",
   "metadata": {},
   "source": [
    "#### Modalidad"
   ]
  },
  {
   "cell_type": "code",
   "execution_count": 11,
   "id": "26044d1f",
   "metadata": {},
   "outputs": [
    {
     "name": "stdout",
     "output_type": "stream",
     "text": [
      "✓ Tabla Modalidad creada exitosamente\n"
     ]
    }
   ],
   "source": [
    "# Primero eliminamos la tabla si ya existe (útil para reiniciar desde cero)\n",
    "# DROP TABLE IF EXISTS es una operación segura que no da error si la tabla no existe\n",
    "cursor.execute('DROP TABLE IF EXISTS Modalidad')\n",
    "\n",
    "# Creamos la tabla Modalidad con SQL usando cursor.execute()\n",
    "cursor.execute('''\n",
    "    CREATE TABLE Modalidad (\n",
    "        id_modalidad INTEGER PRIMARY KEY AUTOINCREMENT,\n",
    "        nombre_modalidad VCHAR(50) NOT NULL\n",
    "    )\n",
    "''')\n",
    "\n",
    "# Guardamos los cambios en la base de datos\n",
    "# commit() hace permanentes los cambios - sin esto, los cambios se pierden\n",
    "conexion.commit()\n",
    "\n",
    "print(\"✓ Tabla Modalidad creada exitosamente\")"
   ]
  },
  {
   "cell_type": "markdown",
   "id": "4390bff6",
   "metadata": {},
   "source": [
    "#### Promocion"
   ]
  },
  {
   "cell_type": "code",
   "execution_count": 12,
   "id": "7149ae9b",
   "metadata": {},
   "outputs": [
    {
     "name": "stdout",
     "output_type": "stream",
     "text": [
      "✓ Tabla Promocion creada exitosamente\n"
     ]
    }
   ],
   "source": [
    "# Primero eliminamos la tabla si ya existe (útil para reiniciar desde cero)\n",
    "# DROP TABLE IF EXISTS es una operación segura que no da error si la tabla no existe\n",
    "cursor.execute('DROP TABLE IF EXISTS Promocion')\n",
    "\n",
    "# Creamos la tabla Promocion con SQL usando cursor.execute()\n",
    "cursor.execute('''\n",
    "    CREATE TABLE Promocion (\n",
    "        id_promocion INTEGER PRIMARY KEY AUTOINCREMENT,\n",
    "        nombre_promocion VCHAR(50) NOT NULL,\n",
    "        fecha_promocion DATE NOT NULL\n",
    "    )\n",
    "''')\n",
    "\n",
    "# Guardamos los cambios en la base de datos\n",
    "# commit() hace permanentes los cambios - sin esto, los cambios se pierden\n",
    "conexion.commit()\n",
    "\n",
    "print(\"✓ Tabla Promocion creada exitosamente\")"
   ]
  },
  {
   "cell_type": "markdown",
   "id": "4008de1a",
   "metadata": {},
   "source": [
    "#### Profesor"
   ]
  },
  {
   "cell_type": "code",
   "execution_count": 13,
   "id": "7fcdfc8d",
   "metadata": {},
   "outputs": [
    {
     "name": "stdout",
     "output_type": "stream",
     "text": [
      "✓ Tabla Profesor creada exitosamente\n"
     ]
    }
   ],
   "source": [
    "# Primero eliminamos la tabla si ya existe (útil para reiniciar desde cero)\n",
    "# DROP TABLE IF EXISTS es una operación segura que no da error si la tabla no existe\n",
    "cursor.execute('DROP TABLE IF EXISTS Profesor')\n",
    "\n",
    "# Creamos la tabla Profesor con SQL usando cursor.execute()\n",
    "cursor.execute('''\n",
    "    CREATE TABLE Profesor (\n",
    "        id_profesor INTEGER PRIMARY KEY AUTOINCREMENT,\n",
    "        id_clase INTEGER,\n",
    "        nombre_profesor VCHAR(50) NOT NULL,\n",
    "        rol VCHAR(50) NOT NULL,\n",
    "        FOREIGN KEY (id_clase) REFERENCES Clases(id_clase) ON DELETE CASCADE\n",
    "    )\n",
    "''')\n",
    "\n",
    "# Guardamos los cambios en la base de datos\n",
    "# commit() hace permanentes los cambios - sin esto, los cambios se pierden\n",
    "conexion.commit()\n",
    "\n",
    "print(\"✓ Tabla Profesor creada exitosamente\")"
   ]
  },
  {
   "cell_type": "markdown",
   "id": "6793bbce",
   "metadata": {},
   "source": [
    "#### Clase"
   ]
  },
  {
   "cell_type": "code",
   "execution_count": 14,
   "id": "ad248ad7",
   "metadata": {},
   "outputs": [
    {
     "name": "stdout",
     "output_type": "stream",
     "text": [
      "✓ Tabla Clase creada exitosamente\n"
     ]
    }
   ],
   "source": [
    "# Primero eliminamos la tabla si ya existe (útil para reiniciar desde cero)\n",
    "# DROP TABLE IF EXISTS es una operación segura que no da error si la tabla no existe\n",
    "cursor.execute('DROP TABLE IF EXISTS Clase')\n",
    "\n",
    "# Creamos la tabla Clase con SQL usando cursor.execute()\n",
    "cursor.execute('''\n",
    "    CREATE TABLE Clase (\n",
    "        id_clase INTEGER PRIMARY KEY AUTOINCREMENT,\n",
    "        id_campus INTEGER,\n",
    "        id_modalidad INTEGER,\n",
    "        id_promocion INTEGER,\n",
    "        id_vertical INTEGER,\n",
    "        FOREIGN KEY (id_campus) REFERENCES Campus(id_campus) ON DELETE CASCADE,\n",
    "        FOREIGN KEY (id_modalidad) REFERENCES Modalidad(id_modalidad) ON DELETE CASCADE,\n",
    "        FOREIGN KEY (id_promocion) REFERENCES Promocion(id_promocion) ON DELETE CASCADE,\n",
    "        FOREIGN KEY (id_vertical) REFERENCES Vertical(id_vertical) ON DELETE CASCADE\n",
    "    )\n",
    "''')\n",
    "\n",
    "# Guardamos los cambios en la base de datos\n",
    "# commit() hace permanentes los cambios - sin esto, los cambios se pierden\n",
    "conexion.commit()\n",
    "\n",
    "print(\"✓ Tabla Clase creada exitosamente\")"
   ]
  },
  {
   "cell_type": "markdown",
   "id": "1662ff37",
   "metadata": {},
   "source": [
    "#### Alumnos"
   ]
  },
  {
   "cell_type": "code",
   "execution_count": 15,
   "id": "a70a9389",
   "metadata": {},
   "outputs": [
    {
     "name": "stdout",
     "output_type": "stream",
     "text": [
      "✓ Tabla Alumnos creada exitosamente\n"
     ]
    }
   ],
   "source": [
    "# Primero eliminamos la tabla si ya existe (útil para reiniciar desde cero)\n",
    "# DROP TABLE IF EXISTS es una operación segura que no da error si la tabla no existe\n",
    "cursor.execute('DROP TABLE IF EXISTS Alumnos')\n",
    "\n",
    "# Creamos la tabla Alumnos con SQL usando cursor.execute()\n",
    "cursor.execute('''\n",
    "    CREATE TABLE Alumnos (\n",
    "        id_alumno INTEGER PRIMARY KEY AUTOINCREMENT,\n",
    "        nombre_alumno VCHAR(50) NOT NULL,\n",
    "        email_alumno VCHAR(50) NOT NULL,\n",
    "        id_clase INTEGER,\n",
    "        FOREIGN KEY (id_clase) REFERENCES Clase(id_clase) ON DELETE CASCADE\n",
    "    )\n",
    "''')\n",
    "\n",
    "# Guardamos los cambios en la base de datos\n",
    "# commit() hace permanentes los cambios - sin esto, los cambios se pierden\n",
    "conexion.commit()\n",
    "\n",
    "print(\"✓ Tabla Alumnos creada exitosamente\")"
   ]
  },
  {
   "cell_type": "markdown",
   "id": "7a6edc95",
   "metadata": {},
   "source": [
    "#### Proyectos"
   ]
  },
  {
   "cell_type": "code",
   "execution_count": 16,
   "id": "40b4496a",
   "metadata": {},
   "outputs": [
    {
     "name": "stdout",
     "output_type": "stream",
     "text": [
      "✓ Tabla Proyectos creada exitosamente\n"
     ]
    }
   ],
   "source": [
    "# Primero eliminamos la tabla si ya existe (útil para reiniciar desde cero)\n",
    "# DROP TABLE IF EXISTS es una operación segura que no da error si la tabla no existe\n",
    "cursor.execute('DROP TABLE IF EXISTS Proyectos')\n",
    "\n",
    "# Creamos la tabla Proyectos con SQL usando cursor.execute()\n",
    "cursor.execute('''\n",
    "    CREATE TABLE Proyectos (\n",
    "        id_proyecto INTEGER PRIMARY KEY AUTOINCREMENT,\n",
    "        nombre_proyecto VCHAR(50) NOT NULL,\n",
    "        id_alumno INTEGER,\n",
    "        id_vertical INTEGER,\n",
    "        FOREIGN KEY (id_alumno) REFERENCES Alumno(id_alumno) ON DELETE CASCADE,\n",
    "        FOREIGN KEY (id_vertical) REFERENCES Vertical(id_vertical) ON DELETE CASCADE\n",
    "    )\n",
    "''')\n",
    "\n",
    "# Guardamos los cambios en la base de datos\n",
    "# commit() hace permanentes los cambios - sin esto, los cambios se pierden\n",
    "conexion.commit()\n",
    "\n",
    "print(\"✓ Tabla Proyectos creada exitosamente\")"
   ]
  },
  {
   "cell_type": "markdown",
   "id": "11ef9f53",
   "metadata": {},
   "source": [
    "#### Notas"
   ]
  },
  {
   "cell_type": "code",
   "execution_count": 17,
   "id": "9ac60359",
   "metadata": {},
   "outputs": [
    {
     "name": "stdout",
     "output_type": "stream",
     "text": [
      "✓ Tabla Notas creada exitosamente\n"
     ]
    }
   ],
   "source": [
    "# Primero eliminamos la tabla si ya existe (útil para reiniciar desde cero)\n",
    "# DROP TABLE IF EXISTS es una operación segura que no da error si la tabla no existe\n",
    "cursor.execute('DROP TABLE IF EXISTS Notas')\n",
    "\n",
    "# Creamos la tabla Notas con SQL usando cursor.execute()\n",
    "cursor.execute('''\n",
    "    CREATE TABLE Notas (\n",
    "        id_nota INTEGER PRIMARY KEY AUTOINCREMENT,\n",
    "        resultado VCHAR(50) NOT NULL,\n",
    "        id_proyecto INTEGER,\n",
    "        id_alumnos INTEGER,\n",
    "        FOREIGN KEY (id_proyecto) REFERENCES Proyectos(id_proyecto) ON DELETE CASCADE,\n",
    "        FOREIGN KEY (id_alumnos) REFERENCES Alumnos(id_alumnos) ON DELETE CASCADE\n",
    "    )\n",
    "''')\n",
    "\n",
    "# Guardamos los cambios en la base de datos\n",
    "# commit() hace permanentes los cambios - sin esto, los cambios se pierden\n",
    "conexion.commit()\n",
    "\n",
    "print(\"✓ Tabla Notas creada exitosamente\")"
   ]
  },
  {
   "cell_type": "markdown",
   "id": "1cd5f13a",
   "metadata": {},
   "source": [
    "#### Vertical"
   ]
  },
  {
   "cell_type": "code",
   "execution_count": 18,
   "id": "65ef22bd",
   "metadata": {},
   "outputs": [
    {
     "name": "stdout",
     "output_type": "stream",
     "text": [
      "✓ Tabla Vertical creada exitosamente\n"
     ]
    }
   ],
   "source": [
    "# Primero eliminamos la tabla si ya existe (útil para reiniciar desde cero)\n",
    "# DROP TABLE IF EXISTS es una operación segura que no da error si la tabla no existe\n",
    "cursor.execute('DROP TABLE IF EXISTS Vertical')\n",
    "\n",
    "# Creamos la tabla Vertical con SQL usando cursor.execute()\n",
    "cursor.execute('''\n",
    "    CREATE TABLE Vertical (\n",
    "        id_vertical INTEGER PRIMARY KEY AUTOINCREMENT,\n",
    "        nombre_vertical VCHAR(50) NOT NULL\n",
    "    )\n",
    "''')\n",
    "\n",
    "# Guardamos los cambios en la base de datos\n",
    "# commit() hace permanentes los cambios - sin esto, los cambios se pierden\n",
    "conexion.commit()\n",
    "\n",
    "print(\"✓ Tabla Vertical creada exitosamente\")"
   ]
  },
  {
   "cell_type": "markdown",
   "id": "0add5e4a",
   "metadata": {},
   "source": [
    "## Insertar registros"
   ]
  },
  {
   "cell_type": "code",
   "execution_count": 19,
   "id": "aa635dda",
   "metadata": {},
   "outputs": [],
   "source": [
    "# Funcíon para extraer datos de los datasets\n",
    "def extraer_datos(indices, dataset):\n",
    "    \"\"\"\n",
    "    Función para extraer los valores de los dataset y convertirlos en lista de tuplas\n",
    "\n",
    "    Args:\n",
    "        indices (list): Lista con los nombres de las columnas a extraer\n",
    "        dataset (str): Nombre del dataset a extraer\n",
    "    \"\"\"\n",
    "    \n",
    "    return dataset[indices].dropna().drop_duplicates().apply(tuple, axis=1).tolist()"
   ]
  },
  {
   "cell_type": "markdown",
   "id": "bd213add",
   "metadata": {},
   "source": [
    "#### Campus"
   ]
  },
  {
   "cell_type": "code",
   "execution_count": 20,
   "id": "13f4fe20",
   "metadata": {},
   "outputs": [
    {
     "name": "stdout",
     "output_type": "stream",
     "text": [
      "✓ 2 campus insertados correctamente\n"
     ]
    }
   ],
   "source": [
    "# Creamos una lista de tuplas con los datos a insertar\n",
    "campus_intro = extraer_datos([\"Campus\"], df_alumnos)\n",
    "\n",
    "cursor.executemany('''\n",
    "    INSERT OR IGNORE INTO Campus (nombre_campus)\n",
    "    VALUES (?)\n",
    "''', campus_intro)\n",
    "\n",
    "# Guardamos todos los cambios a la vez\n",
    "conexion.commit()\n",
    "\n",
    "print(f\"✓ {len(campus_intro)} campus insertados correctamente\")"
   ]
  },
  {
   "cell_type": "markdown",
   "id": "f25de365",
   "metadata": {},
   "source": [
    "#### Modalidad"
   ]
  },
  {
   "cell_type": "code",
   "execution_count": 21,
   "id": "34e208fd",
   "metadata": {},
   "outputs": [
    {
     "data": {
      "text/plain": [
       "[('Presencial',), ('Online',)]"
      ]
     },
     "execution_count": 21,
     "metadata": {},
     "output_type": "execute_result"
    }
   ],
   "source": [
    "extraer_datos([\"Modalidad\"], df_profesores)"
   ]
  },
  {
   "cell_type": "code",
   "execution_count": 22,
   "id": "b3b412a2",
   "metadata": {},
   "outputs": [
    {
     "name": "stdout",
     "output_type": "stream",
     "text": [
      "✓ 2 modalidades insertadas correctamente\n"
     ]
    }
   ],
   "source": [
    "# Creamos una lista de tuplas con los datos a insertar\n",
    "modalidad_intro = extraer_datos([\"Modalidad\"], df_profesores)\n",
    "\n",
    "cursor.executemany('''\n",
    "    INSERT OR IGNORE INTO Modalidad (nombre_modalidad)\n",
    "    VALUES (?)\n",
    "''', modalidad_intro)\n",
    "\n",
    "# Guardamos todos los cambios a la vez\n",
    "conexion.commit()\n",
    "\n",
    "print(f\"✓ {len(modalidad_intro)} modalidades insertadas correctamente\")"
   ]
  },
  {
   "cell_type": "markdown",
   "id": "9e207f15",
   "metadata": {},
   "source": [
    "#### Promocion"
   ]
  },
  {
   "cell_type": "code",
   "execution_count": 23,
   "id": "2771accb",
   "metadata": {},
   "outputs": [
    {
     "name": "stdout",
     "output_type": "stream",
     "text": [
      "✓ 2 promociones insertadas correctamente\n"
     ]
    }
   ],
   "source": [
    "# Creamos una lista de tuplas con los datos a insertar\n",
    "promocion_intro = extraer_datos([\"Promoción\", \"Fecha_comienzo\"], df_alumnos)\n",
    "\n",
    "cursor.executemany('''\n",
    "    INSERT OR IGNORE INTO Promocion (nombre_promocion, fecha_promocion)\n",
    "    VALUES (?, ?)\n",
    "''', promocion_intro)\n",
    "\n",
    "# Guardamos todos los cambios a la vez\n",
    "conexion.commit()\n",
    "\n",
    "print(f\"✓ {len(promocion_intro)} promociones insertadas correctamente\")"
   ]
  },
  {
   "cell_type": "markdown",
   "id": "33741e98",
   "metadata": {},
   "source": [
    "#### Vertical"
   ]
  },
  {
   "cell_type": "code",
   "execution_count": 24,
   "id": "f95852c3",
   "metadata": {},
   "outputs": [
    {
     "name": "stdout",
     "output_type": "stream",
     "text": [
      "✓ 2 verticales insertadas correctamente\n"
     ]
    }
   ],
   "source": [
    "# Creamos una lista de tuplas con los datos a insertar\n",
    "vertical_intro = extraer_datos([\"Vertical\"], df_profesores)\n",
    "\n",
    "cursor.executemany('''\n",
    "    INSERT OR IGNORE INTO Vertical (nombre_vertical)\n",
    "    VALUES (?)\n",
    "''', vertical_intro)\n",
    "\n",
    "# Guardamos todos los cambios a la vez\n",
    "conexion.commit()\n",
    "\n",
    "print(f\"✓ {len(vertical_intro)} verticales insertadas correctamente\")"
   ]
  },
  {
   "cell_type": "markdown",
   "id": "3467cf0c",
   "metadata": {},
   "source": [
    "#### Clase"
   ]
  },
  {
   "cell_type": "code",
   "execution_count": 25,
   "id": "a1b4bd58",
   "metadata": {},
   "outputs": [
    {
     "name": "stdout",
     "output_type": "stream",
     "text": [
      "✓ 8 clases insertadas correctamente\n"
     ]
    }
   ],
   "source": [
    "# Creamos una lista de tuplas con los datos a insertar\n",
    "clases = df_profesores[['Campus', 'Modalidad', 'Promocion', 'Vertical']].drop_duplicates()\n",
    "\n",
    "for _, row in clases.iterrows():\n",
    "    # Obtener IDs\n",
    "    id_campus = cursor.execute('SELECT id_campus FROM Campus WHERE nombre_campus = ?', \n",
    "                                (row['Campus'],)).fetchone()[0]\n",
    "    id_modalidad = cursor.execute('SELECT id_modalidad FROM Modalidad WHERE nombre_modalidad = ?', \n",
    "                                    (row['Modalidad'],)).fetchone()[0]\n",
    "    id_promocion = cursor.execute('SELECT id_promocion FROM Promocion WHERE nombre_promocion = ?', \n",
    "                                    (row['Promocion'],)).fetchone()[0]\n",
    "    id_vertical = cursor.execute('SELECT id_vertical FROM Vertical WHERE nombre_vertical = ?', \n",
    "                                (row['Vertical'],)).fetchone()[0]\n",
    "    \n",
    "    cursor.execute('''\n",
    "        INSERT OR IGNORE INTO Clase (id_campus, id_modalidad, id_promocion, id_vertical)\n",
    "        VALUES (?, ?, ?, ?)\n",
    "    ''', (id_campus, id_modalidad, id_promocion, id_vertical))\n",
    "\n",
    "# Guardamos todos los cambios a la vez\n",
    "conexion.commit()\n",
    "\n",
    "print(f\"✓ {len(clases)} clases insertadas correctamente\")"
   ]
  },
  {
   "cell_type": "markdown",
   "id": "3c435123",
   "metadata": {},
   "source": [
    "#### Profesor"
   ]
  },
  {
   "cell_type": "code",
   "execution_count": 26,
   "id": "daeb5774",
   "metadata": {},
   "outputs": [
    {
     "name": "stdout",
     "output_type": "stream",
     "text": [
      "✓ 10 profesores insertados correctamente\n"
     ]
    }
   ],
   "source": [
    "# Creamos una lista de tuplas con los datos a insertar\n",
    "for _, row in df_profesores.iterrows():\n",
    "    # Obtener id_clase\n",
    "    id_campus = cursor.execute('SELECT id_campus FROM Campus WHERE nombre_campus = ?', \n",
    "                                (row['Campus'],)).fetchone()[0]\n",
    "    id_modalidad = cursor.execute('SELECT id_modalidad FROM Modalidad WHERE nombre_modalidad = ?', \n",
    "                                    (row['Modalidad'],)).fetchone()[0]\n",
    "    id_promocion = cursor.execute('SELECT id_promocion FROM Promocion WHERE nombre_promocion = ?', \n",
    "                                    (row['Promocion'],)).fetchone()[0]\n",
    "    id_vertical = cursor.execute('SELECT id_vertical FROM Vertical WHERE nombre_vertical = ?', \n",
    "                                (row['Vertical'],)).fetchone()[0]\n",
    "    \n",
    "    id_clase = cursor.execute('''\n",
    "        SELECT id_clase FROM Clase \n",
    "        WHERE id_campus = ? AND id_modalidad = ? AND id_promocion = ? AND id_vertical = ?\n",
    "    ''', (id_campus, id_modalidad, id_promocion, id_vertical)).fetchone()[0]\n",
    "    \n",
    "    cursor.execute('''\n",
    "        INSERT INTO Profesor (nombre_profesor, rol, id_clase)\n",
    "        VALUES (?, ?, ?)\n",
    "    ''', (row['Nombre'], row['Rol'], id_clase))\n",
    "\n",
    "# Guardamos todos los cambios a la vez\n",
    "conexion.commit()\n",
    "\n",
    "print(f\"✓ {len(df_profesores)} profesores insertados correctamente\")"
   ]
  },
  {
   "cell_type": "markdown",
   "id": "99cd1cd2",
   "metadata": {},
   "source": [
    "#### Proyectos"
   ]
  },
  {
   "cell_type": "code",
   "execution_count": 27,
   "id": "a64edbd7",
   "metadata": {},
   "outputs": [
    {
     "name": "stdout",
     "output_type": "stream",
     "text": [
      "✓ 10 proyectos insertados correctamente\n"
     ]
    }
   ],
   "source": [
    "# Creamos una lista de tuplas con los datos a insertar\n",
    "proyectos_columnas = ['Proyecto_HLF', 'Proyecto_EDA', 'Proyecto_BBDD', 'Proyecto_ML',\n",
    "                        'Proyecto_Deployment', 'Proyecto_WebDev', 'Proyecto_FrontEnd', \n",
    "                        'Proyecto_Backend', 'Proyecto_React', 'Proyecto_FullStack']\n",
    "\n",
    "# Mapeo de proyectos a verticales\n",
    "proyecto_vertical_map = {\n",
    "    'Proyecto_HLF': 'DS',\n",
    "    'Proyecto_EDA': 'DS',\n",
    "    'Proyecto_BBDD': 'DS',\n",
    "    'Proyecto_ML': 'DS',\n",
    "    'Proyecto_Deployment': 'DS',\n",
    "    'Proyecto_WebDev': 'FS',\n",
    "    'Proyecto_FrontEnd': 'FS',\n",
    "    'Proyecto_Backend': 'FS',\n",
    "    'Proyecto_React': 'FS',\n",
    "    'Proyecto_FullSatck': 'FS'\n",
    "}\n",
    "\n",
    "for proyecto in proyectos_columnas:\n",
    "    vertical_nombre = proyecto_vertical_map.get(proyecto)\n",
    "    id_vertical = None\n",
    "    if vertical_nombre:\n",
    "        result = cursor.execute('SELECT id_vertical FROM Vertical WHERE nombre_vertical = ?', \n",
    "                                (vertical_nombre,)).fetchone()\n",
    "        if result:\n",
    "            id_vertical = result[0]\n",
    "    \n",
    "    cursor.execute('''\n",
    "        INSERT OR IGNORE INTO Proyectos (nombre_proyecto, id_vertical)\n",
    "        VALUES (?, ?)\n",
    "    ''', (proyecto, id_vertical))\n",
    "    \n",
    "# Guardamos todos los cambios a la vez\n",
    "conexion.commit()\n",
    "\n",
    "print(f\"✓ {len(proyectos_columnas)} proyectos insertados correctamente\")"
   ]
  },
  {
   "cell_type": "markdown",
   "id": "f5be8cf7",
   "metadata": {},
   "source": [
    "#### Alumnos y Notas"
   ]
  },
  {
   "cell_type": "code",
   "execution_count": 28,
   "id": "793fc7dc",
   "metadata": {},
   "outputs": [
    {
     "name": "stdout",
     "output_type": "stream",
     "text": [
      "✓ Insertados 52 alumnos con sus notas\n"
     ]
    }
   ],
   "source": [
    "# Creamos una lista de tuplas con los datos a insertar\n",
    "for _, alumno in df_alumnos.iterrows():\n",
    "    # Obtener id_clase del alumno\n",
    "    id_campus = cursor.execute('SELECT id_campus FROM Campus WHERE nombre_campus = ?', \n",
    "                                (alumno['Campus'],)).fetchone()[0]\n",
    "    id_promocion = cursor.execute('SELECT id_promocion FROM Promocion WHERE nombre_promocion = ?', \n",
    "                                    (alumno['Promoción'],)).fetchone()[0]\n",
    "    \n",
    "    # Para alumnos, necesitamos hacer una suposición sobre modalidad y vertical\n",
    "    # Opción: tomar la primera clase que coincida con campus y promoción\n",
    "    id_clase_result = cursor.execute('''\n",
    "        SELECT id_clase FROM Clase \n",
    "        WHERE id_campus = ? AND id_promocion = ?\n",
    "        LIMIT 1\n",
    "    ''', (id_campus, id_promocion)).fetchone()\n",
    "    \n",
    "    if id_clase_result:\n",
    "        id_clase = id_clase_result[0]\n",
    "        \n",
    "        # Insertar alumno\n",
    "        cursor.execute('''\n",
    "            INSERT OR IGNORE INTO Alumnos (nombre_alumno, email_alumno, id_clase)\n",
    "            VALUES (?, ?, ?)\n",
    "        ''', (alumno['Nombre'], alumno['Email'], id_clase))\n",
    "        \n",
    "        # Obtener id_alumno\n",
    "        id_alumno = cursor.execute('SELECT id_alumno FROM Alumnos WHERE email_alumno = ?', \n",
    "                                    (alumno['Email'],)).fetchone()[0]\n",
    "        \n",
    "        # Insertar notas de todos los proyectos\n",
    "        for proyecto_col in proyectos_columnas:\n",
    "            if pd.notna(alumno[proyecto_col]):\n",
    "                id_proyecto = cursor.execute('SELECT id_proyecto FROM Proyectos WHERE nombre_proyecto = ?', \n",
    "                                            (proyecto_col,)).fetchone()[0]\n",
    "                \n",
    "                cursor.execute('''\n",
    "                    INSERT OR IGNORE INTO Notas (id_alumnos, id_proyecto, resultado)\n",
    "                    VALUES (?, ?, ?)\n",
    "                ''', (id_alumno, id_proyecto, alumno[proyecto_col]))\n",
    "\n",
    "conexion.commit()\n",
    "print(f\"✓ Insertados {len(df_alumnos)} alumnos con sus notas\")"
   ]
  },
  {
   "cell_type": "markdown",
   "id": "7aa13b25",
   "metadata": {},
   "source": [
    "### Pruebas de Query"
   ]
  },
  {
   "cell_type": "code",
   "execution_count": 29,
   "id": "fb528697",
   "metadata": {},
   "outputs": [],
   "source": [
    "# Función para realizar queries\n",
    "def sql_query(query):\n",
    "    return pd.read_sql(query, conexion)"
   ]
  },
  {
   "cell_type": "code",
   "execution_count": 34,
   "id": "60f01dba",
   "metadata": {},
   "outputs": [
    {
     "data": {
      "text/html": [
       "<div>\n",
       "<style scoped>\n",
       "    .dataframe tbody tr th:only-of-type {\n",
       "        vertical-align: middle;\n",
       "    }\n",
       "\n",
       "    .dataframe tbody tr th {\n",
       "        vertical-align: top;\n",
       "    }\n",
       "\n",
       "    .dataframe thead th {\n",
       "        text-align: right;\n",
       "    }\n",
       "</style>\n",
       "<table border=\"1\" class=\"dataframe\">\n",
       "  <thead>\n",
       "    <tr style=\"text-align: right;\">\n",
       "      <th></th>\n",
       "      <th>id_nota</th>\n",
       "      <th>resultado</th>\n",
       "      <th>id_proyecto</th>\n",
       "      <th>id_alumnos</th>\n",
       "    </tr>\n",
       "  </thead>\n",
       "  <tbody>\n",
       "    <tr>\n",
       "      <th>0</th>\n",
       "      <td>1</td>\n",
       "      <td>Apto</td>\n",
       "      <td>1</td>\n",
       "      <td>1</td>\n",
       "    </tr>\n",
       "    <tr>\n",
       "      <th>1</th>\n",
       "      <td>2</td>\n",
       "      <td>No Apto</td>\n",
       "      <td>2</td>\n",
       "      <td>1</td>\n",
       "    </tr>\n",
       "    <tr>\n",
       "      <th>2</th>\n",
       "      <td>3</td>\n",
       "      <td>No Apto</td>\n",
       "      <td>3</td>\n",
       "      <td>1</td>\n",
       "    </tr>\n",
       "    <tr>\n",
       "      <th>3</th>\n",
       "      <td>4</td>\n",
       "      <td>Apto</td>\n",
       "      <td>4</td>\n",
       "      <td>1</td>\n",
       "    </tr>\n",
       "    <tr>\n",
       "      <th>4</th>\n",
       "      <td>5</td>\n",
       "      <td>Apto</td>\n",
       "      <td>5</td>\n",
       "      <td>1</td>\n",
       "    </tr>\n",
       "    <tr>\n",
       "      <th>...</th>\n",
       "      <td>...</td>\n",
       "      <td>...</td>\n",
       "      <td>...</td>\n",
       "      <td>...</td>\n",
       "    </tr>\n",
       "    <tr>\n",
       "      <th>255</th>\n",
       "      <td>256</td>\n",
       "      <td>No Apto</td>\n",
       "      <td>6</td>\n",
       "      <td>52</td>\n",
       "    </tr>\n",
       "    <tr>\n",
       "      <th>256</th>\n",
       "      <td>257</td>\n",
       "      <td>Apto</td>\n",
       "      <td>7</td>\n",
       "      <td>52</td>\n",
       "    </tr>\n",
       "    <tr>\n",
       "      <th>257</th>\n",
       "      <td>258</td>\n",
       "      <td>Apto</td>\n",
       "      <td>8</td>\n",
       "      <td>52</td>\n",
       "    </tr>\n",
       "    <tr>\n",
       "      <th>258</th>\n",
       "      <td>259</td>\n",
       "      <td>Apto</td>\n",
       "      <td>9</td>\n",
       "      <td>52</td>\n",
       "    </tr>\n",
       "    <tr>\n",
       "      <th>259</th>\n",
       "      <td>260</td>\n",
       "      <td>No Apto</td>\n",
       "      <td>10</td>\n",
       "      <td>52</td>\n",
       "    </tr>\n",
       "  </tbody>\n",
       "</table>\n",
       "<p>260 rows × 4 columns</p>\n",
       "</div>"
      ],
      "text/plain": [
       "     id_nota resultado  id_proyecto  id_alumnos\n",
       "0          1      Apto            1           1\n",
       "1          2   No Apto            2           1\n",
       "2          3   No Apto            3           1\n",
       "3          4      Apto            4           1\n",
       "4          5      Apto            5           1\n",
       "..       ...       ...          ...         ...\n",
       "255      256   No Apto            6          52\n",
       "256      257      Apto            7          52\n",
       "257      258      Apto            8          52\n",
       "258      259      Apto            9          52\n",
       "259      260   No Apto           10          52\n",
       "\n",
       "[260 rows x 4 columns]"
      ]
     },
     "execution_count": 34,
     "metadata": {},
     "output_type": "execute_result"
    }
   ],
   "source": [
    "query = '''\n",
    "select *\n",
    "from Notas\n",
    "'''\n",
    "\n",
    "sql_query(query)"
   ]
  }
 ],
 "metadata": {
  "kernelspec": {
   "display_name": "Python 3",
   "language": "python",
   "name": "python3"
  },
  "language_info": {
   "codemirror_mode": {
    "name": "ipython",
    "version": 3
   },
   "file_extension": ".py",
   "mimetype": "text/x-python",
   "name": "python",
   "nbconvert_exporter": "python",
   "pygments_lexer": "ipython3",
   "version": "3.11.9"
  }
 },
 "nbformat": 4,
 "nbformat_minor": 5
}
